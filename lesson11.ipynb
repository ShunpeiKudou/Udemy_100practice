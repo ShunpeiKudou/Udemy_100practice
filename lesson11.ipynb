{
  "nbformat": 4,
  "nbformat_minor": 0,
  "metadata": {
    "colab": {
      "name": "lesson11.ipynb",
      "provenance": [],
      "collapsed_sections": [
        "fRR-51qWi9QF",
        "tPXS6n_njkyO",
        "hetn9ovyj8q1",
        "LB8qZwF3j8mj",
        "PQ9wCIkVk1aw",
        "jexYwuqZlPPR",
        "7Hpt9p4Clb2l",
        "S-INv3u_aSCd"
      ],
      "toc_visible": true,
      "include_colab_link": true
    },
    "kernelspec": {
      "name": "python3",
      "display_name": "Python 3"
    },
    "language_info": {
      "name": "python"
    }
  },
  "cells": [
    {
      "cell_type": "markdown",
      "metadata": {
        "id": "view-in-github",
        "colab_type": "text"
      },
      "source": [
        "<a href=\"https://colab.research.google.com/github/ShunpeiKudou/Udemy_100practice/blob/main/lesson11.ipynb\" target=\"_parent\"><img src=\"https://colab.research.google.com/assets/colab-badge.svg\" alt=\"Open In Colab\"/></a>"
      ]
    },
    {
      "cell_type": "markdown",
      "metadata": {
        "id": "zL2Lam1Wi5c4"
      },
      "source": [
        "# 総まとめの演習問題【7問】\n",
        "\n",
        "この章では、今まで学んだことを使った総仕上げの問題を紹介していきます。\n",
        "\n",
        "問題の内容は、自分で好きな手を入力して、コンピューターはランダムで手を出す「じゃんけんプログラム」の作成です。\n",
        "\n",
        "```\n",
        "**********\n",
        "選択肢 : {0: 'グー', 1: 'チョキ', 2: 'パー'}\n",
        "**********\n",
        "自分が出す手を入力してください(整数 : 0, 1, 2) > 1\n",
        "コンピューターの出した手 : パー\n",
        "自分の出した手 : チョキ\n",
        "結果 : 勝ち\n",
        "```\n",
        "\n",
        "このコースで学習したことを使えば、簡単に作成できるようになっているはずです。自信があれば、上記の出力になるようなプログラムを、どんどん作成しましょう。\n",
        "\n",
        "答えのプログラムは、適宜改行を挟みながら39行で作成されています。\n",
        "\n",
        "自分でプログラムを作成できるかたは、ぜひ答えよりスマートで簡潔なプログラム作成に挑戦してみてください。\n",
        "\n",
        "<br>\n",
        "\n",
        "もし0からプログラムを作成する自信がなければ、設問を進めていきましょう。\n",
        "\n",
        "順番に進めれば、プログラムを作成できるようになっています。"
      ]
    },
    {
      "cell_type": "code",
      "source": [
        "# 自力で頑張る\n",
        "\n",
        "# 選択肢 : {0: 'グー', 1: 'チョキ', 2: 'パー'}を格納\n",
        "\n",
        "janken_dict = {0: 'グー', 1: 'チョキ', 2: 'パー'}\n",
        "\n",
        "# プレイヤーの手を変数に格納\n",
        "player = input('自分が出す手を入力してください(整数 : 0, 1, 2) >')\n",
        "\n",
        "# コンピュータの出した手を変数に格納\n",
        "computer = "
      ],
      "metadata": {
        "colab": {
          "base_uri": "https://localhost:8080/",
          "height": 52
        },
        "id": "pop3MBLpOstY",
        "outputId": "b0a57022-b44e-424d-84a3-c3adb6903288"
      },
      "execution_count": null,
      "outputs": [
        {
          "name": "stdout",
          "output_type": "stream",
          "text": [
            "自分が出す手を入力してください(整数 : 0, 1, 2) >2\n"
          ]
        },
        {
          "output_type": "execute_result",
          "data": {
            "text/plain": [
              "'2'"
            ],
            "application/vnd.google.colaboratory.intrinsic+json": {
              "type": "string"
            }
          },
          "metadata": {},
          "execution_count": 1
        }
      ]
    },
    {
      "cell_type": "markdown",
      "metadata": {
        "id": "fRR-51qWi9QF"
      },
      "source": [
        "## 問題88. "
      ]
    },
    {
      "cell_type": "markdown",
      "metadata": {
        "id": "M3HtSZfiIzoP"
      },
      "source": [
        "以下の出力になる辞書と、選択肢(0, 1, 2)だけ格納したタプルを作成してください。(※リストでも構いません。ただ今後、中身を変更する予定のない配列なので、リストよりタプルがベターです。)\n",
        "\n",
        "```\n",
        "作成した辞書 : {0: 'グー', 1: 'チョキ', 2: 'パー'}\n",
        "作成したタプル : (0, 1, 2)\n",
        "```\n"
      ]
    },
    {
      "cell_type": "code",
      "metadata": {
        "id": "8I6s3s9ajOeQ",
        "colab": {
          "base_uri": "https://localhost:8080/"
        },
        "outputId": "f5577ace-4129-4dca-b620-77457e6e1fad"
      },
      "source": [
        "d =  {0: 'グー', 1: 'チョキ', 2: 'パー'}\n",
        "options = tuple(d.keys())\n",
        "\n",
        "print(f'作成した辞書 : {d}')\n",
        "print(f'作成したタプル :{options}')"
      ],
      "execution_count": null,
      "outputs": [
        {
          "output_type": "stream",
          "name": "stdout",
          "text": [
            "作成した辞書 : {0: 'グー', 1: 'チョキ', 2: 'パー'}\n",
            "作成したタプル :(0, 1, 2)\n"
          ]
        }
      ]
    },
    {
      "cell_type": "markdown",
      "metadata": {
        "id": "tPXS6n_njkyO"
      },
      "source": [
        "## 問題89. "
      ]
    },
    {
      "cell_type": "markdown",
      "metadata": {
        "id": "DPuGF3Q_I1C2"
      },
      "source": [
        "自分で好きな数字を入力できるようにして、受け取った結果を整数型(int)に変換してください。\n",
        "\n",
        "```\n",
        "自分が出す手を入力してください(整数 : 0, 1, 2) > 0\n",
        "自分が選んだ数字 : 0\n",
        "型 : <class 'int'>\n",
        "```"
      ]
    },
    {
      "cell_type": "code",
      "metadata": {
        "id": "41-DVRHzjqQf",
        "colab": {
          "base_uri": "https://localhost:8080/"
        },
        "outputId": "4fbe9230-876c-45ca-95b2-3b1e6f6f70a2"
      },
      "source": [
        "my_hand = input('自分が出す手を入力してください(整数 : 0, 1, 2) >')\n",
        "my_hand = int(my_hand)\n",
        "\n",
        "print(f'自分が選んだ数字 : {my_hand}')\n",
        "print(type(my_hand))"
      ],
      "execution_count": null,
      "outputs": [
        {
          "output_type": "stream",
          "name": "stdout",
          "text": [
            "自分が出す手を入力してください(整数 : 0, 1, 2) >1\n",
            "自分が選んだ数字 : 1\n",
            "<class 'int'>\n"
          ]
        }
      ]
    },
    {
      "cell_type": "markdown",
      "metadata": {
        "id": "hetn9ovyj8q1"
      },
      "source": [
        "## 問題90. "
      ]
    },
    {
      "cell_type": "markdown",
      "metadata": {
        "id": "3IbTDyBMI2wl"
      },
      "source": [
        "問題88を活用して、問題89における以下の問題点を解消するプログラムに書き換えてください。\n",
        "\n",
        "- 文字列(例えば「A」や「Python」など)が入力できてしまう\n",
        "- 0, 1, 2だけでなく、4や5も入力できる状態にある\n",
        "\n",
        "▼期待する出力\n",
        "```\n",
        "自分が出す手を入力してください(整数 : 0, 1, 2) > python\n",
        "整数の0, 1, 2を入力してください\n",
        "自分が出す手を入力してください(整数 : 0, 1, 2) > 4\n",
        "自分が出す手を入力してください(整数 : 0, 1, 2) > 1\n",
        "自分が選んだ数字 : 1, 型 : <class 'int'>\n",
        "```"
      ]
    },
    {
      "cell_type": "code",
      "metadata": {
        "id": "w3HuPhPTj8os",
        "colab": {
          "base_uri": "https://localhost:8080/"
        },
        "outputId": "12f51985-0a04-4798-edcb-466ee0ef536f"
      },
      "source": [
        "# なんかむずい\n",
        "'''\n",
        "my_hand = input('自分が出す手を入力してください(整数 : 0, 1, 2) >')\n",
        "\n",
        "if my_hand in options:\n",
        "    my_hand = int(my_hand)\n",
        "else:\n",
        "    while my_hand in options:\n",
        "        print('整数の0, 1, 2を入力してください')\n",
        "        my_hand = input('自分が出す手を入力してください(整数 : 0, 1, 2) >')\n",
        "        if my_hand in options:\n",
        "            break\n",
        "        my_hand = int(my_hand)\n",
        "    \n",
        "print(f'自分が選んだ数字 : {my_hand}, 型 : {type(my_hand)}')\n",
        "'''"
      ],
      "execution_count": null,
      "outputs": [
        {
          "output_type": "stream",
          "name": "stdout",
          "text": [
            "自分が出す手を入力してください(整数 : 0, 1, 2) >pytho\n",
            "自分が選んだ数字 : pytho, 型 : <class 'str'>\n"
          ]
        }
      ]
    },
    {
      "cell_type": "code",
      "source": [
        "d =  {0: 'グー', 1: 'チョキ', 2: 'パー'}\n",
        "options = tuple(d.keys())\n",
        "\n",
        "my_hand = 99\n",
        "while my_hand not in options:\n",
        "    my_hand = input('自分が出す手を入力してください(整数 : 0, 1, 2) >')\n",
        "    try:\n",
        "        my_hand = int(my_hand)\n",
        "    except:\n",
        "        print('整数の0, 1, 2を入力してください。')\n",
        "        my_hand = input('自分が出す手を入力してください(整数 : 0, 1, 2) >')\n",
        "\n",
        "print(f'自分が選んだ数字 : {my_hand}')\n",
        "print(type(my_hand))"
      ],
      "metadata": {
        "colab": {
          "base_uri": "https://localhost:8080/"
        },
        "id": "5Hegxq-vTxCN",
        "outputId": "a568a739-3f9c-432a-900b-27fe2767037b"
      },
      "execution_count": null,
      "outputs": [
        {
          "output_type": "stream",
          "name": "stdout",
          "text": [
            "自分が出す手を入力してください(整数 : 0, 1, 2) >python\n",
            "整数の0, 1, 2を入力してください。\n",
            "自分が出す手を入力してください(整数 : 0, 1, 2) >5\n",
            "自分が出す手を入力してください(整数 : 0, 1, 2) >python\n",
            "整数の0, 1, 2を入力してください。\n",
            "自分が出す手を入力してください(整数 : 0, 1, 2) >hoge\n",
            "自分が出す手を入力してください(整数 : 0, 1, 2) >2\n",
            "自分が選んだ数字 : 2\n",
            "<class 'int'>\n"
          ]
        }
      ]
    },
    {
      "cell_type": "markdown",
      "metadata": {
        "id": "LB8qZwF3j8mj"
      },
      "source": [
        "## 問題91. "
      ]
    },
    {
      "cell_type": "markdown",
      "metadata": {
        "id": "axjzx6HOI5S3"
      },
      "source": [
        "コンピューターがランダムで数字の0, 1, 2を選択するプログラムを作成してください。(※ヒント : randomライブラリを使います。)\n",
        "\n",
        "```\n",
        "自分が出す手を入力してください(整数 : 0, 1, 2) > 0\n",
        "コンピューターが選んだ数字 : 1\n",
        "自分が選んだ数字 : 0\n",
        "```"
      ]
    },
    {
      "cell_type": "code",
      "metadata": {
        "id": "IJPAFx6ujuTF",
        "colab": {
          "base_uri": "https://localhost:8080/"
        },
        "outputId": "7cfb071c-e76c-4cd0-bf57-c0a34c93e136"
      },
      "source": [
        "import random\n",
        "\n",
        "my_hand = input('自分が出す手を入力してください(整数: 0, 1, 2) >')\n",
        "computer_hand = random.randint(0, 2)\n",
        "print(f'コンピューターが選んだ数字 : {computer_hand}')\n",
        "print(f'自分が選んだ数字 : {my_hand}')"
      ],
      "execution_count": null,
      "outputs": [
        {
          "output_type": "stream",
          "name": "stdout",
          "text": [
            "自分が出す手を入力してください(整数: 0, 1, 2) >2\n",
            "コンピューターが選んだ数字 : 1\n",
            "自分が選んだ数字 : 2\n"
          ]
        }
      ]
    },
    {
      "cell_type": "code",
      "source": [
        "import random\n",
        "\n",
        "d =  {0: 'グー', 1: 'チョキ', 2: 'パー'}\n",
        "options = tuple(d.keys())\n",
        "computer_hand = random.choice(options)\n",
        "\n",
        "my_hand = 99\n",
        "while my_hand not in options:\n",
        "    my_hand = input('自分が出す手を入力してください(整数 : 0, 1, 2) >')\n",
        "    try:\n",
        "        my_hand = int(my_hand)\n",
        "    except:\n",
        "        print('整数の0, 1, 2を入力してください。')\n",
        "        my_hand = input('自分が出す手を入力してください(整数 : 0, 1, 2) >')\n",
        "\n",
        "print(f'コンピューターが選んだ数字 : {computer_hand}')\n",
        "print(f'自分が選んだ数字 : {my_hand}')"
      ],
      "metadata": {
        "colab": {
          "base_uri": "https://localhost:8080/"
        },
        "id": "qfGkxszQsIIm",
        "outputId": "83398858-30f2-4f73-89e7-037eda98e1fd"
      },
      "execution_count": null,
      "outputs": [
        {
          "output_type": "stream",
          "name": "stdout",
          "text": [
            "自分が出す手を入力してください(整数 : 0, 1, 2) >2\n",
            "コンピューターが選んだ数字 : 2\n",
            "自分が選んだ数字 : 2\n",
            "<class 'int'>\n"
          ]
        }
      ]
    },
    {
      "cell_type": "markdown",
      "metadata": {
        "id": "PQ9wCIkVk1aw"
      },
      "source": [
        "## 問題92. "
      ]
    },
    {
      "cell_type": "markdown",
      "metadata": {
        "id": "VLg3qM2FI6u6"
      },
      "source": [
        "問題91で、コンピューターと自分が選択した数字を、出した手(グー・チョキ・パー)に変更するプログラムを作成してください。\n",
        "\n",
        "```\n",
        "自分が出す手を入力してください(整数 : 0, 1, 2) > 0\n",
        "コンピューターの出した手 : パー\n",
        "自分の出した手 : グー\n",
        "```"
      ]
    },
    {
      "cell_type": "code",
      "metadata": {
        "id": "xoyJVCM_lCIS",
        "colab": {
          "base_uri": "https://localhost:8080/"
        },
        "outputId": "a8e960f6-f460-481b-ece7-ee2495eaaf7a"
      },
      "source": [
        "import random\n",
        "\n",
        "d =  {0: 'グー', 1: 'チョキ', 2: 'パー'}\n",
        "options = tuple(d.keys())\n",
        "computer_hand = random.choice(options)\n",
        "\n",
        "my_hand = 99\n",
        "while my_hand not in options:\n",
        "    my_hand = input('自分が出す手を入力してください(整数 : 0, 1, 2) >')\n",
        "    try:\n",
        "        my_hand = int(my_hand)\n",
        "    except:\n",
        "        print('整数の0, 1, 2を入力してください。')\n",
        "        my_hand = input('自分が出す手を入力してください(整数 : 0, 1, 2) >')\n",
        "\n",
        "print(f'コンピューターが選んだ手 : {d[computer_hand]}')\n",
        "print(f'自分が選んだ手 : {d[my_hand]}')"
      ],
      "execution_count": 7,
      "outputs": [
        {
          "output_type": "stream",
          "name": "stdout",
          "text": [
            "自分が出す手を入力してください(整数 : 0, 1, 2) >0\n",
            "コンピューターが選んだ手 : チョキ\n",
            "自分が選んだ手 : グー\n"
          ]
        }
      ]
    },
    {
      "cell_type": "markdown",
      "metadata": {
        "id": "jexYwuqZlPPR"
      },
      "source": [
        "## 問題93. "
      ]
    },
    {
      "cell_type": "markdown",
      "metadata": {
        "id": "I9jdNvSBI8nN"
      },
      "source": [
        "数字を選ぶとき「どの数字がどの手に対応するのか」を出力するプログラムを作成してください。\n",
        "\n",
        "```\n",
        "**********\n",
        "選択肢 : {0: 'グー', 1: 'チョキ', 2: 'パー'}\n",
        "**********\n",
        "自分が出す手を入力してください(整数 : 0, 1, 2) > 1\n",
        "コンピューターの出した手 : チョキ\n",
        "自分の出した手 : チョキ\n",
        "```"
      ]
    },
    {
      "cell_type": "code",
      "metadata": {
        "id": "a2pPTEbtlHs0",
        "colab": {
          "base_uri": "https://localhost:8080/"
        },
        "outputId": "acfbf092-9171-40c8-b8e7-c6eeac3fc4c9"
      },
      "source": [
        "import random\n",
        "\n",
        "d = {0: 'グー', 1: 'チョキ', 2: 'パー'}\n",
        "options = tuple(d.keys())\n",
        "computer_hand = random.choice(options)\n",
        "\n",
        "print(\"********** \\n選択肢 : {0: 'グー', 1: 'チョキ', 2: 'パー'} \\n**********\")\n",
        "\n",
        "my_hand = 99\n",
        "while my_hand not in options:\n",
        "    my_hand = input('自分が出す手を入力してください(整数 : 0, 1, 2) >')\n",
        "    try:\n",
        "        my_hand = int(my_hand)\n",
        "    except:\n",
        "        print('整数の0, 1, 2を入力してください。')\n",
        "        my_hand = input('自分が出す手を入力してください(整数 : 0, 1, 2) >')\n",
        "\n",
        "print(f'コンピューターが選んだ手 : {d[computer_hand]}')\n",
        "print(f'自分が選んだ手 : {d[my_hand]}')"
      ],
      "execution_count": 11,
      "outputs": [
        {
          "output_type": "stream",
          "name": "stdout",
          "text": [
            "******* \n",
            "選択肢 : {0: 'グー', 1: 'チョキ', 2: 'パー'} \n",
            "**********\n",
            "自分が出す手を入力してください(整数 : 0, 1, 2) >0\n",
            "コンピューターが選んだ手 : グー\n",
            "自分が選んだ手 : グー\n"
          ]
        }
      ]
    },
    {
      "cell_type": "markdown",
      "metadata": {
        "id": "7Hpt9p4Clb2l"
      },
      "source": [
        "## 問題94. "
      ]
    },
    {
      "cell_type": "markdown",
      "metadata": {
        "id": "NrxHs70UI-In"
      },
      "source": [
        "条件分岐を設定して、コンピューターと自分の出した手を元に、勝敗を判定するプログラムを完成させてください。\n",
        "\n",
        "```\n",
        "**********\n",
        "選択肢 : {0: 'グー', 1: 'チョキ', 2: 'パー'}\n",
        "**********\n",
        "自分が出す手を入力してください(整数 : 0, 1, 2) > 0\n",
        "コンピューターの出した手 : パー\n",
        "自分の出した手 : グー\n",
        "結果 : 負け\n",
        "```"
      ]
    },
    {
      "cell_type": "code",
      "metadata": {
        "id": "nGOv9gL9lpQi",
        "colab": {
          "base_uri": "https://localhost:8080/"
        },
        "outputId": "08b9e224-8da7-457e-f7f0-62cb01d856a8"
      },
      "source": [
        "import random\n",
        "\n",
        "d = {0: 'グー', 1: 'チョキ', 2: 'パー'}\n",
        "options = tuple(d.keys())\n",
        "computer_hand = random.choice(options)\n",
        "\n",
        "print('*'*10 +  f'\\n選択肢 : {d}\\n' + '*'*10)\n",
        "\n",
        "my_hand = 99\n",
        "while my_hand not in options:\n",
        "    my_hand = input('自分が出す手を入力してください(整数 : 0, 1, 2) >')\n",
        "    try:\n",
        "        my_hand = int(my_hand)\n",
        "    except:\n",
        "        print('整数の0, 1, 2を入力してください。')\n",
        "        my_hand = input('自分が出す手を入力してください(整数 : 0, 1, 2) >')\n",
        "\n",
        "print(f'コンピューターが選んだ手 : {d[computer_hand]}')\n",
        "print(f'自分が選んだ手 : {d[my_hand]}')\n",
        "\n",
        "is_win = False\n",
        "if computer_hand == my_hand:\n",
        "    is_win = 'あいこ'\n",
        "else:\n",
        "    if computer_hand == 0 and my_hand == 2:\n",
        "        is_win = True\n",
        "    elif computer_hand == 1 and my_hand == 0:\n",
        "        is_win = True\n",
        "    elif computer_hand == 2 and my_hand == 1:\n",
        "        is_win = True\n",
        "\n",
        "if isinstance(is_win, bool):\n",
        "    is_win = '勝ち' if is_win else '負け'\n",
        "\n",
        "print(f'結果 : {is_win}')"
      ],
      "execution_count": 18,
      "outputs": [
        {
          "output_type": "stream",
          "name": "stdout",
          "text": [
            "**********\n",
            "選択肢 : {0: 'グー', 1: 'チョキ', 2: 'パー'}\n",
            "**********\n",
            "自分が出す手を入力してください(整数 : 0, 1, 2) >2\n",
            "コンピューターが選んだ手 : チョキ\n",
            "自分が選んだ手 : パー\n",
            "結果 : 負け\n"
          ]
        }
      ]
    },
    {
      "cell_type": "markdown",
      "metadata": {
        "id": "S-INv3u_aSCd"
      },
      "source": [
        "## まとめ"
      ]
    },
    {
      "cell_type": "markdown",
      "metadata": {
        "id": "qQdobz_kl9Vw"
      },
      "source": [
        "こうやって実際にプログラムを組んでみることで、さらに応用力が身についたのではないでしょうか。\n",
        "\n",
        "「問題が簡単すぎて、もっと応用力を身に付けたい」ということであれば、コンピューターを3回ジャンケンをして、勝った回数をカウントするプログラムを作成してみてください。\n",
        "\n",
        "それも書けるようになったら、もうPython初心者とは言えないですね！笑"
      ]
    },
    {
      "cell_type": "code",
      "metadata": {
        "id": "tm-SHeuKe3oM"
      },
      "source": [
        ""
      ],
      "execution_count": null,
      "outputs": []
    }
  ]
}