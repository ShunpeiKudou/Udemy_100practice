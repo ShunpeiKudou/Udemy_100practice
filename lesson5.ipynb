{
  "nbformat": 4,
  "nbformat_minor": 0,
  "metadata": {
    "colab": {
      "name": "lesson5.ipynb",
      "provenance": [],
      "collapsed_sections": [
        "nY1fnALz1W4d",
        "Qz_7Htju2L-6",
        "gYCrjuPQ2Yu2",
        "mqQ6zB5q2tA9",
        "JXd5fQFJ2-oU",
        "_JOLy0TF3NAl",
        "_rC3KHEO31bi",
        "vUNSkiLk4LEh",
        "RuKVbECr4thv",
        "pc7blLsU5Kan",
        "pGzNCyd65EvI",
        "je04aTgE6QE2",
        "qWjy9l3L_yWc",
        "g7KICJlbAWgo",
        "rOSM1iTZAvtn",
        "wskE6cQyBBqK",
        "b2O_kY48B3Eq",
        "KbhmWhQtCQ65",
        "Z2OxE8NPC0vY",
        "7SWGy6tKCkam",
        "Q7hvXuuHD-i8",
        "3KiY9pGhICKi",
        "kwVIJeNcIWG2",
        "8P0bUcgaJ4fu",
        "cKtYyvgPKWkv"
      ],
      "toc_visible": true,
      "include_colab_link": true
    },
    "kernelspec": {
      "name": "python3",
      "display_name": "Python 3"
    },
    "language_info": {
      "name": "python"
    }
  },
  "cells": [
    {
      "cell_type": "markdown",
      "metadata": {
        "id": "view-in-github",
        "colab_type": "text"
      },
      "source": [
        "<a href=\"https://colab.research.google.com/github/ShunpeiKudou/Udemy_100practice/blob/main/lesson5.ipynb\" target=\"_parent\"><img src=\"https://colab.research.google.com/assets/colab-badge.svg\" alt=\"Open In Colab\"/></a>"
      ]
    },
    {
      "cell_type": "markdown",
      "metadata": {
        "id": "KZ-kB11E1REF"
      },
      "source": [
        "# リスト型【25問】"
      ]
    },
    {
      "cell_type": "markdown",
      "metadata": {
        "id": "nY1fnALz1W4d"
      },
      "source": [
        "## 問題26."
      ]
    },
    {
      "cell_type": "markdown",
      "metadata": {
        "id": "To2xmn15oq4Q"
      },
      "source": [
        "リスト`[1, 2, 3, 4, 5]`に格納されている数値を足し合わせるプログラムを作成してください。\n",
        "\n",
        "\n",
        "※組み込み関数を使わずに解いてみてください。\n",
        "\n",
        "```\n",
        "リスト内の合計 : 15\n",
        "```"
      ]
    },
    {
      "cell_type": "code",
      "metadata": {
        "id": "_jPKjbx3141K",
        "colab": {
          "base_uri": "https://localhost:8080/"
        },
        "outputId": "b7eeae9c-775c-4388-be5b-ad217d765444"
      },
      "source": [
        "l = [1, 2, 3, 4, 5]\n",
        "total = 0\n",
        "\n",
        "for i in l:\n",
        "    total += i\n",
        "\n",
        "print(f'リスト内の合計 : {total}')"
      ],
      "execution_count": null,
      "outputs": [
        {
          "output_type": "stream",
          "name": "stdout",
          "text": [
            "リスト内の合計 : 15\n"
          ]
        }
      ]
    },
    {
      "cell_type": "markdown",
      "metadata": {
        "id": "Qz_7Htju2L-6"
      },
      "source": [
        "## 問題27. "
      ]
    },
    {
      "cell_type": "markdown",
      "metadata": {
        "id": "zX4GpR4Fospf"
      },
      "source": [
        "組み込み関数を使って、リスト`[1, 2, 3, 4, 5]`に格納されている数値を足し合わせるプログラムを作成してください。\n",
        "\n",
        "```\n",
        "リスト内の合計 : 15\n",
        "```"
      ]
    },
    {
      "cell_type": "code",
      "metadata": {
        "id": "fGTJKdgE18YD",
        "colab": {
          "base_uri": "https://localhost:8080/"
        },
        "outputId": "ff26bfaa-0c07-445b-ba19-a2452187fe31"
      },
      "source": [
        "l = [1, 2, 3, 4, 5]\n",
        "\n",
        "print(f'リスト内の合計 : {sum(l)}')"
      ],
      "execution_count": null,
      "outputs": [
        {
          "output_type": "stream",
          "name": "stdout",
          "text": [
            "リスト内の合計 : 15\n"
          ]
        }
      ]
    },
    {
      "cell_type": "markdown",
      "metadata": {
        "id": "gYCrjuPQ2Yu2"
      },
      "source": [
        "## 問題28. "
      ]
    },
    {
      "cell_type": "markdown",
      "metadata": {
        "id": "7ff3UullouYk"
      },
      "source": [
        "リスト` [1, 5, 3, 2, 4]`に格納されている数値の最大値を出力するプログラムを作成してください。\n",
        "\n",
        "※組み込み関数を使わずに解いてみてください。\n",
        "\n",
        "```\n",
        "リスト内の最大値 : 5\n",
        "```"
      ]
    },
    {
      "cell_type": "code",
      "metadata": {
        "id": "43brIS0U2gLP",
        "colab": {
          "base_uri": "https://localhost:8080/"
        },
        "outputId": "f2f81f6e-0589-401c-adde-e78c1f08a3ff"
      },
      "source": [
        "l = [1, 5, 3, 2, 4]\n",
        "\n",
        "max_num = 0\n",
        "for i in l:\n",
        "    if i > max_num:\n",
        "        max_num = i\n",
        "    else:\n",
        "        continue\n",
        "\n",
        "print(f'リスト内の最大値 : {max_num}')"
      ],
      "execution_count": null,
      "outputs": [
        {
          "output_type": "stream",
          "name": "stdout",
          "text": [
            "リスト内の最大値 : 5\n"
          ]
        }
      ]
    },
    {
      "cell_type": "markdown",
      "metadata": {
        "id": "mqQ6zB5q2tA9"
      },
      "source": [
        "## 問題29. "
      ]
    },
    {
      "cell_type": "markdown",
      "metadata": {
        "id": "SMBjl_7TowQj"
      },
      "source": [
        "組み込み関数を使って、リスト` [1, 5, 3, 2, 4]`に格納されている数値の最大値を出力するプログラムを作成してください。\n",
        "\n",
        "```\n",
        "リスト内の最大値 : 5\n",
        "```"
      ]
    },
    {
      "cell_type": "code",
      "metadata": {
        "id": "RWkOsJZ723_d",
        "colab": {
          "base_uri": "https://localhost:8080/"
        },
        "outputId": "cc2c758c-5e2f-418c-fbf1-5da6abe0a246"
      },
      "source": [
        "l = [1, 5, 3, 2, 4]\n",
        "\n",
        "print(f'リスト内の最大値 : {max(l)}')"
      ],
      "execution_count": null,
      "outputs": [
        {
          "output_type": "stream",
          "name": "stdout",
          "text": [
            "リスト内の最大値 : 5\n"
          ]
        }
      ]
    },
    {
      "cell_type": "markdown",
      "metadata": {
        "id": "JXd5fQFJ2-oU"
      },
      "source": [
        "## 問題30. "
      ]
    },
    {
      "cell_type": "markdown",
      "metadata": {
        "id": "WUkto6FPox34"
      },
      "source": [
        "リスト`[1, 2, 2, 3, 3, 4, 5]`から重複している値を削除するプログラムを作成してください。\n",
        "\n",
        "```\n",
        "重複削除したリスト : [1, 2, 3, 4, 5]\n",
        "```"
      ]
    },
    {
      "cell_type": "code",
      "metadata": {
        "id": "r2_aGKnJ3ELR",
        "colab": {
          "base_uri": "https://localhost:8080/"
        },
        "outputId": "725fdeb5-d8e9-4cc7-e846-d19cd8dde33d"
      },
      "source": [
        "l = [1, 2, 2, 3, 3, 4, 5]\n",
        "\n",
        "new_l = []\n",
        "\n",
        "for i in l:\n",
        "    if i in new_l:\n",
        "        continue\n",
        "    else:\n",
        "        new_l.append(i)\n",
        "\n",
        "print(f'重複削除したリスト : {new_l}')"
      ],
      "execution_count": null,
      "outputs": [
        {
          "output_type": "stream",
          "name": "stdout",
          "text": [
            "重複削除したリスト : [1, 2, 3, 4, 5]\n"
          ]
        }
      ]
    },
    {
      "cell_type": "code",
      "source": [
        "# 模範解答\n",
        "l = [1, 2, 2, 3, 3, 4, 5]\n",
        "\n",
        "new_l = list(set(l))\n",
        "print(f'重複削除したリスト : {new_l}')"
      ],
      "metadata": {
        "colab": {
          "base_uri": "https://localhost:8080/"
        },
        "id": "KE-ldAazTnp_",
        "outputId": "3dd1fe3b-8bcd-48f4-8e7e-232d7300bc30"
      },
      "execution_count": null,
      "outputs": [
        {
          "output_type": "stream",
          "name": "stdout",
          "text": [
            "重複削除したリスト : [1, 2, 3, 4, 5]\n"
          ]
        }
      ]
    },
    {
      "cell_type": "markdown",
      "metadata": {
        "id": "_JOLy0TF3NAl"
      },
      "source": [
        "## 問題31."
      ]
    },
    {
      "cell_type": "markdown",
      "metadata": {
        "id": "UDIxTElyozf-"
      },
      "source": [
        "リスト`['Python', 'Ruby', 'PHP', 'JavaScript']`に格納されている文字列の中で、一番短い単語を出力するプログラムを作成しましょう。\n",
        "\n",
        "```\n",
        "一番短い単語 : PHP\n",
        "```"
      ]
    },
    {
      "cell_type": "code",
      "metadata": {
        "id": "ixBgpy053M-S",
        "colab": {
          "base_uri": "https://localhost:8080/"
        },
        "outputId": "671cd07c-8a24-44c2-eade-19bc6c5a9838"
      },
      "source": [
        "l = ['Python', 'Ruby', 'PHP', 'JavaScript']\n",
        "\n",
        "min_value = ''\n",
        "\n",
        "for i in l:\n",
        "    print(i)\n",
        "    if min_value == '':\n",
        "        min_value = i    \n",
        "    elif len(i) < len(min_value):\n",
        "        min_value = i\n",
        "\n",
        "print(f'一番短い単語 : {min_value}')"
      ],
      "execution_count": null,
      "outputs": [
        {
          "output_type": "stream",
          "name": "stdout",
          "text": [
            "Python\n",
            "Ruby\n",
            "PHP\n",
            "JavaScript\n",
            "一番短い単語 : PHP\n"
          ]
        }
      ]
    },
    {
      "cell_type": "code",
      "source": [
        "# 模範解答\n",
        "\n",
        "l = ['Python', 'Ruby', 'PHP', 'JavaScript']\n",
        "\n",
        "min_length_word = l[0]\n",
        "\n",
        "for word in l[1:]:\n",
        "    min_length = len(min_length_word)\n",
        "    if len(word) < min_length:\n",
        "        min_length_word = word\n",
        "\n",
        "print(f'一番短い単語 : {min_value}')"
      ],
      "metadata": {
        "colab": {
          "base_uri": "https://localhost:8080/"
        },
        "id": "VYLV4DXyVKJV",
        "outputId": "d9d4d3bc-b6c1-42cc-de7b-c65c0a1082f2"
      },
      "execution_count": null,
      "outputs": [
        {
          "output_type": "stream",
          "name": "stdout",
          "text": [
            "一番短い単語 : PHP\n"
          ]
        }
      ]
    },
    {
      "cell_type": "markdown",
      "metadata": {
        "id": "_rC3KHEO31bi"
      },
      "source": [
        "## 問題32. "
      ]
    },
    {
      "cell_type": "markdown",
      "metadata": {
        "id": "WCh69f1do1BP"
      },
      "source": [
        "リスト`['Python', 'Ruby', 'PHP', 'JavaScript']`に格納されている文字列が短いものから順番に並べるプログラムを作成してください。\n",
        "\n",
        "```\n",
        "短い順に並び替えたリスト : ['PHP', 'Ruby', 'Python', 'JavaScript']\n",
        "```"
      ]
    },
    {
      "cell_type": "code",
      "metadata": {
        "id": "waAkTi8t3HWG",
        "colab": {
          "base_uri": "https://localhost:8080/"
        },
        "outputId": "1a021a22-cbbc-4390-d09b-5b444f4ece48"
      },
      "source": [
        "l = ['PHP', 'Ruby', 'Python', 'JavaScript']\n",
        "\n",
        "l.sort(key=len)\n",
        "print(f'短い順に並び替えたリスト : {l}')"
      ],
      "execution_count": null,
      "outputs": [
        {
          "output_type": "stream",
          "name": "stdout",
          "text": [
            "短い順に並び替えたリスト : ['PHP', 'Ruby', 'Python', 'JavaScript']\n"
          ]
        }
      ]
    },
    {
      "cell_type": "code",
      "source": [
        "l = ['PHP', 'Ruby', 'Python', 'JavaScript']\n",
        "\n",
        "sorted_l = sorted(l, key=len)\n",
        "print(f'短い順に並び替えたリスト : {sorted_l}')"
      ],
      "metadata": {
        "colab": {
          "base_uri": "https://localhost:8080/"
        },
        "id": "ezleuqnQXD9g",
        "outputId": "a312303d-8806-41cb-c659-3294b90b857d"
      },
      "execution_count": null,
      "outputs": [
        {
          "output_type": "stream",
          "name": "stdout",
          "text": [
            "短い順に並び替えたリスト : ['PHP', 'Ruby', 'Python', 'JavaScript']\n"
          ]
        }
      ]
    },
    {
      "cell_type": "markdown",
      "metadata": {
        "id": "vUNSkiLk4LEh"
      },
      "source": [
        "## 問題33. "
      ]
    },
    {
      "cell_type": "markdown",
      "metadata": {
        "id": "apv7EQgao2xr"
      },
      "source": [
        "2つのリストで共通の文字列を格納したリストを出力するプログラムを作成してください。\n",
        "\n",
        "※使用するリスト :\n",
        "```\n",
        "l1 = ['Python', 'Ruby', 'PHP', 'JavaScript']\n",
        "l2 = ['Java', 'Ruby', 'Golang', 'Python', 'TypeScript']\n",
        "```\n",
        "\n",
        "▼期待する出力\n",
        "```\n",
        "共通する値を格納したリスト : ['Python', 'Ruby']\n",
        "```"
      ]
    },
    {
      "cell_type": "code",
      "metadata": {
        "id": "hBVRKpMX4Sti",
        "colab": {
          "base_uri": "https://localhost:8080/"
        },
        "outputId": "c141d8a7-1eae-4d73-bfa5-925a9a200134"
      },
      "source": [
        "l1 = ['Python', 'Ruby', 'PHP', 'JavaScript']\n",
        "l2 = ['Java', 'Ruby', 'Golang', 'Python', 'TypeScript']\n",
        "\n",
        "l_double = []\n",
        "\n",
        "for i in l1:\n",
        "    if i in l2:\n",
        "        l_double.append(i)\n",
        "\n",
        "for i in l2:\n",
        "    if i in l1 and i not in l_double:\n",
        "        l_double.append(i)\n",
        "\n",
        "print(f'共通する値を格納したリスト : {l_double}')"
      ],
      "execution_count": null,
      "outputs": [
        {
          "output_type": "stream",
          "name": "stdout",
          "text": [
            "共通する値を格納したリスト : ['Python', 'Ruby']\n"
          ]
        }
      ]
    },
    {
      "cell_type": "code",
      "source": [
        "# 模範解答\n",
        "\n",
        "l1 = ['Python', 'Ruby', 'PHP', 'JavaScript']\n",
        "l2 = ['Java', 'Ruby', 'Golang', 'Python', 'TypeScript', 'Python']\n",
        "\n",
        "new_l = []\n",
        "\n",
        "for word1 in l1:\n",
        "    for word2 in l2:\n",
        "        if word1 == word2 and word1 not in new_l:\n",
        "            new_l.append(word1)\n",
        "print(new_l)"
      ],
      "metadata": {
        "colab": {
          "base_uri": "https://localhost:8080/"
        },
        "id": "G9nfqp7zYIf1",
        "outputId": "1aaae1df-b67a-472f-c8ed-d0cfde444928"
      },
      "execution_count": null,
      "outputs": [
        {
          "output_type": "stream",
          "name": "stdout",
          "text": [
            "['Python', 'Ruby']\n"
          ]
        }
      ]
    },
    {
      "cell_type": "markdown",
      "metadata": {
        "id": "RuKVbECr4thv"
      },
      "source": [
        "## 問題34. "
      ]
    },
    {
      "cell_type": "markdown",
      "metadata": {
        "id": "FBBzxRXjo4Tj"
      },
      "source": [
        "以下のリストで「インデックス番号が偶数の要素」だけを出力するプログラムを作成してください。\n",
        "\n",
        "※使用するリスト : \n",
        "```\n",
        "l = ['1', 2, '3', 4, '5', 6, '7', 8, '9', 10]\n",
        "```\n",
        "\n",
        "▼期待する出力\n",
        "```\n",
        "偶数のインデックス番号 : ['1', '3', '5', '7', '9']\n",
        "```"
      ]
    },
    {
      "cell_type": "code",
      "metadata": {
        "id": "IWQo4vXgMFV0",
        "colab": {
          "base_uri": "https://localhost:8080/"
        },
        "outputId": "e636ef0e-41aa-4039-aadd-549f1bed2484"
      },
      "source": [
        "l = ['1', 2, '3', 4, '5', 6, '7', 8, '9', 10]\n",
        "\n",
        "new_l = []\n",
        "\n",
        "for i in l:\n",
        "    if l.index(i) % 2 == 0:\n",
        "        new_l.append(i)\n",
        "\n",
        "print(f'偶数のインデックス番号 : {new_l}')"
      ],
      "execution_count": null,
      "outputs": [
        {
          "output_type": "stream",
          "name": "stdout",
          "text": [
            "偶数のインデックス番号 : ['1', '3', '5', '7', '9']\n"
          ]
        }
      ]
    },
    {
      "cell_type": "code",
      "source": [
        "# 模範解答\n",
        "\n",
        "l = ['1', 2, '3', 4, '5', 6, '7', 8, '9', 10]\n",
        "\n",
        "print(f'偶数のインデックス番号 : {l[::2]}')"
      ],
      "metadata": {
        "colab": {
          "base_uri": "https://localhost:8080/"
        },
        "id": "4P_bikdwZeG0",
        "outputId": "cbeaf978-d735-40a0-9833-95892f3c4466"
      },
      "execution_count": null,
      "outputs": [
        {
          "output_type": "stream",
          "name": "stdout",
          "text": [
            "偶数のインデックス番号 : ['1', '3', '5', '7', '9']\n"
          ]
        }
      ]
    },
    {
      "cell_type": "markdown",
      "metadata": {
        "id": "pc7blLsU5Kan"
      },
      "source": [
        "## 問題35. "
      ]
    },
    {
      "cell_type": "markdown",
      "metadata": {
        "id": "JFEEMSCco6Q2"
      },
      "source": [
        "以下のリストで「整数型(int)の要素」だけを出力するプログラムを作成してください。\n",
        "\n",
        "※使用するリスト : \n",
        "```\n",
        "l = ['1', 2, '3', 4.0, '5', 6, '7', 8.0, '9', 10]\n",
        "```\n",
        "\n",
        "▼期待する出力\n",
        "```\n",
        "整数型に絞り込んだリスト : [2, 6, 10]\n",
        "```"
      ]
    },
    {
      "cell_type": "code",
      "metadata": {
        "id": "s61qCYTg5KT4",
        "colab": {
          "base_uri": "https://localhost:8080/"
        },
        "outputId": "346c8dde-e11e-4648-983b-306ef676a2a0"
      },
      "source": [
        "l = ['1', 2, '3', 4.0, '5', 6, '7', 8.0, '9', 10]\n",
        "\n",
        "new_l = []\n",
        "\n",
        "for i in l:\n",
        "    if type(i) == int:\n",
        "        new_l.append(i)\n",
        "\n",
        "print(f'整数型に絞り込んだリスト : {new_l}')"
      ],
      "execution_count": null,
      "outputs": [
        {
          "output_type": "stream",
          "name": "stdout",
          "text": [
            "整数型に絞り込んだリスト : [2, 6, 10]\n"
          ]
        }
      ]
    },
    {
      "cell_type": "code",
      "source": [
        "# 模範解答\n",
        "\n",
        "l = ['1', 2, '3', 4.0, '5', 6, '7', 8.0, '9', 10]\n",
        "\n",
        "new_l = []\n",
        "\n",
        "for v in l:\n",
        "    if isinstance(v, int):\n",
        "        new_l.append(v)\n",
        "\n",
        "print(f'整数型に絞り込んだリスト : {new_l}')"
      ],
      "metadata": {
        "colab": {
          "base_uri": "https://localhost:8080/"
        },
        "id": "SPfiRRfaaN8b",
        "outputId": "6aa08110-c4dd-432d-d03b-d42180ec7fc4"
      },
      "execution_count": null,
      "outputs": [
        {
          "output_type": "stream",
          "name": "stdout",
          "text": [
            "整数型に絞り込んだリスト : [2, 6, 10]\n"
          ]
        }
      ]
    },
    {
      "cell_type": "markdown",
      "metadata": {
        "id": "pGzNCyd65EvI"
      },
      "source": [
        "## 問題36. "
      ]
    },
    {
      "cell_type": "markdown",
      "metadata": {
        "id": "3rr9fBPZo7zY"
      },
      "source": [
        "以下のように2つのリストが格納されたリストを出力するプログラムを「2行以下」で作成してください。ただし`[1, 2, 3, 4, 5]`のようにハードコーディングしないこと。\n",
        "\n",
        "```\n",
        "作成したリスト : [[1, 2, 3, 4, 5], [6, 7, 8, 9, 10]]\n",
        "```"
      ]
    },
    {
      "cell_type": "code",
      "metadata": {
        "id": "R6XkoJt36MJ6",
        "colab": {
          "base_uri": "https://localhost:8080/"
        },
        "outputId": "4cfa7454-9e59-4c9e-90a4-c2333dcee78b"
      },
      "source": [
        "l = [[x for x in range(1, 6)],[y for y in range(6, 11)]]\n",
        "\n",
        "print(f'作成したリスト : {l}')"
      ],
      "execution_count": null,
      "outputs": [
        {
          "output_type": "stream",
          "name": "stdout",
          "text": [
            "作成したリスト : [[1, 2, 3, 4, 5], [6, 7, 8, 9, 10]]\n"
          ]
        }
      ]
    },
    {
      "cell_type": "code",
      "source": [
        "l = [[5*i + j for j in range(1, 6)] for i in range(2)]\n",
        "print(l)"
      ],
      "metadata": {
        "colab": {
          "base_uri": "https://localhost:8080/"
        },
        "id": "HMqGvHk6lU8a",
        "outputId": "72100ee6-206c-4887-dc4b-55b5c3a3251d"
      },
      "execution_count": null,
      "outputs": [
        {
          "output_type": "stream",
          "name": "stdout",
          "text": [
            "[[1, 2, 3, 4, 5], [6, 7, 8, 9, 10]]\n"
          ]
        }
      ]
    },
    {
      "cell_type": "code",
      "source": [
        "l = []\n",
        "\n",
        "for i in range(2):\n",
        "    for j in range(1, 6):\n",
        "        l.append(5*i + j)\n",
        "\n",
        "print(l)"
      ],
      "metadata": {
        "colab": {
          "base_uri": "https://localhost:8080/"
        },
        "id": "4um5Ln3Ll7nr",
        "outputId": "e78e4482-e686-42a4-8cfe-13d16c4c5fa7"
      },
      "execution_count": null,
      "outputs": [
        {
          "output_type": "stream",
          "name": "stdout",
          "text": [
            "[1, 2, 3, 4, 5, 6, 7, 8, 9, 10]\n"
          ]
        }
      ]
    },
    {
      "cell_type": "markdown",
      "metadata": {
        "id": "je04aTgE6QE2"
      },
      "source": [
        "## 問題37. "
      ]
    },
    {
      "cell_type": "markdown",
      "metadata": {
        "id": "A1GOEhw_o9H8"
      },
      "source": [
        "以下の二次元リストを一次元にする(平らにする)プログラムを「3行以下」で作成してください。\n",
        "\n",
        "※使用するリスト : \n",
        "```\n",
        "l = [[1, 2, 3, 4, 5], [6, 7, 8, 9, 10]]\n",
        "```\n",
        "\n",
        "▼期待する出力\n",
        "```\n",
        "一次元にしたリスト : [1, 2, 3, 4, 5, 6, 7, 8, 9, 10]\n",
        "```"
      ]
    },
    {
      "cell_type": "code",
      "metadata": {
        "id": "XCWfHxlk7Wpv",
        "colab": {
          "base_uri": "https://localhost:8080/"
        },
        "outputId": "66363545-765d-4e0c-d8f9-a900b839cf7c"
      },
      "source": [
        "l = [[1, 2, 3, 4, 5], [6, 7, 8, 9, 10]]\n",
        "flat = [x for row in l for x in row]\n",
        "\n",
        "print(f'一次元にしたリスト : {flat}')"
      ],
      "execution_count": null,
      "outputs": [
        {
          "output_type": "stream",
          "name": "stdout",
          "text": [
            "一次元にしたリスト : [1, 2, 3, 4, 5, 6, 7, 8, 9, 10]\n"
          ]
        }
      ]
    },
    {
      "cell_type": "markdown",
      "metadata": {
        "id": "qWjy9l3L_yWc"
      },
      "source": [
        "## 問題38. "
      ]
    },
    {
      "cell_type": "markdown",
      "metadata": {
        "id": "OxRwKMYPo-tG"
      },
      "source": [
        "空のリストだったら「入力されたリストは空でした。」と出力し、そうでなければそのままリストを出力するプログラムを作成してください。\n",
        "\n",
        "`l = [1, 2, 3]`の場合 : \n",
        "```\n",
        "入力されたリスト : [1, 2, 3]\n",
        "```\n",
        "\n",
        "`l = []`の場合 : \n",
        "```\n",
        "入力されたリストは空でした。\n",
        "```"
      ]
    },
    {
      "cell_type": "code",
      "metadata": {
        "id": "2hm5lXAl7ZZl",
        "colab": {
          "base_uri": "https://localhost:8080/"
        },
        "outputId": "49411be9-e64c-434f-d910-de5f1648f2bb"
      },
      "source": [
        "l = input('リストを入力してください >')\n",
        "if len(l) == 0:\n",
        "    print('入力されたリストは空でした。')\n",
        "else:\n",
        "    print(l)"
      ],
      "execution_count": null,
      "outputs": [
        {
          "output_type": "stream",
          "name": "stdout",
          "text": [
            "リストを入力してください >[]\n",
            "[]\n"
          ]
        }
      ]
    },
    {
      "cell_type": "markdown",
      "metadata": {
        "id": "g7KICJlbAWgo"
      },
      "source": [
        "## 問題39. "
      ]
    },
    {
      "cell_type": "markdown",
      "metadata": {
        "id": "cfCxMfeopAbO"
      },
      "source": [
        "以下2つのリストで、対応するインデックス同士を掛け算したリストを「4行以下」で作成してください。\n",
        "\n",
        "※使用するリスト :\n",
        "```\n",
        "l1 = [1 ,2 ,3, 4, 5]\n",
        "l2 = [10, 9, 8, 7, 6]\n",
        "```\n",
        "\n",
        "▼期待する出力\n",
        "```\n",
        "掛け算を計算した結果 : [10, 18, 24, 28, 30]\n",
        "```"
      ]
    },
    {
      "cell_type": "code",
      "metadata": {
        "id": "6w_SNPdQArnB",
        "colab": {
          "base_uri": "https://localhost:8080/",
          "height": 235
        },
        "outputId": "0b5442fe-1b88-48dd-f4fc-407d9266a0c5"
      },
      "source": [
        "# 自力不可\n",
        "l1 = [1 ,2 ,3, 4, 5]\n",
        "l2 = [10, 9, 8, 7, 6]\n",
        "\n",
        "l3 = []\n",
        "for x in l1:\n",
        "    x = l1.index(l1)\n",
        "    l3.append(l1[x] * l2[x]) \n",
        "\n",
        "\n",
        "l3 = [l1[x] * l2[x] for x in l1]\n",
        "\n",
        "print(f'掛け算を計算した結果 : {l3}')"
      ],
      "execution_count": null,
      "outputs": [
        {
          "output_type": "error",
          "ename": "ValueError",
          "evalue": "ignored",
          "traceback": [
            "\u001b[0;31m---------------------------------------------------------------------------\u001b[0m",
            "\u001b[0;31mValueError\u001b[0m                                Traceback (most recent call last)",
            "\u001b[0;32m<ipython-input-17-297e738f4449>\u001b[0m in \u001b[0;36m<module>\u001b[0;34m()\u001b[0m\n\u001b[1;32m      4\u001b[0m \u001b[0ml3\u001b[0m \u001b[0;34m=\u001b[0m \u001b[0;34m[\u001b[0m\u001b[0;34m]\u001b[0m\u001b[0;34m\u001b[0m\u001b[0;34m\u001b[0m\u001b[0m\n\u001b[1;32m      5\u001b[0m \u001b[0;32mfor\u001b[0m \u001b[0mx\u001b[0m \u001b[0;32min\u001b[0m \u001b[0ml1\u001b[0m\u001b[0;34m:\u001b[0m\u001b[0;34m\u001b[0m\u001b[0;34m\u001b[0m\u001b[0m\n\u001b[0;32m----> 6\u001b[0;31m     \u001b[0mx\u001b[0m \u001b[0;34m=\u001b[0m \u001b[0ml1\u001b[0m\u001b[0;34m.\u001b[0m\u001b[0mindex\u001b[0m\u001b[0;34m(\u001b[0m\u001b[0ml1\u001b[0m\u001b[0;34m)\u001b[0m\u001b[0;34m\u001b[0m\u001b[0;34m\u001b[0m\u001b[0m\n\u001b[0m\u001b[1;32m      7\u001b[0m     \u001b[0ml3\u001b[0m\u001b[0;34m.\u001b[0m\u001b[0mappend\u001b[0m\u001b[0;34m(\u001b[0m\u001b[0ml1\u001b[0m\u001b[0;34m[\u001b[0m\u001b[0mx\u001b[0m\u001b[0;34m]\u001b[0m \u001b[0;34m*\u001b[0m \u001b[0ml2\u001b[0m\u001b[0;34m[\u001b[0m\u001b[0mx\u001b[0m\u001b[0;34m]\u001b[0m\u001b[0;34m)\u001b[0m\u001b[0;34m\u001b[0m\u001b[0;34m\u001b[0m\u001b[0m\n\u001b[1;32m      8\u001b[0m \u001b[0;34m\u001b[0m\u001b[0m\n",
            "\u001b[0;31mValueError\u001b[0m: [1, 2, 3, 4, 5] is not in list"
          ]
        }
      ]
    },
    {
      "cell_type": "code",
      "source": [
        "l1 = [1 ,2 ,3, 4, 5]\n",
        "l2 = [10, 9, 8, 7, 6]\n",
        "\n",
        "# l3 = [i * j for i, j in zip(l1, l2)]\n",
        "for i, j in zip(l1, l2):\n",
        "    print(i, j)\n",
        "\n",
        "print(f'掛け算を計算した結果 : {l3}')"
      ],
      "metadata": {
        "colab": {
          "base_uri": "https://localhost:8080/"
        },
        "id": "trlZKB5LqyTD",
        "outputId": "ce6c0a83-6cd7-4480-f339-7fda9c45a5dd"
      },
      "execution_count": null,
      "outputs": [
        {
          "output_type": "stream",
          "name": "stdout",
          "text": [
            "1 10\n",
            "2 9\n",
            "3 8\n",
            "4 7\n",
            "5 6\n",
            "掛け算を計算した結果 : [10, 18, 24, 28, 30]\n"
          ]
        }
      ]
    },
    {
      "cell_type": "markdown",
      "metadata": {
        "id": "rOSM1iTZAvtn"
      },
      "source": [
        "## 問題40. "
      ]
    },
    {
      "cell_type": "markdown",
      "metadata": {
        "id": "gVByjHFZpBwq"
      },
      "source": [
        "以下のリストで、整数(int型)の最大値・最小値を出力するプログラムを「4行以下」で作成してください。\n",
        "\n",
        "※使用するリスト : \n",
        "```\n",
        "l = [1, '22', 3, '444', 0.0, '5']\n",
        "```\n",
        "\n",
        "▼期待する出力\n",
        "\n",
        "```\n",
        "最大値 : 3\n",
        "最小値 : 1\n",
        "```"
      ]
    },
    {
      "cell_type": "code",
      "metadata": {
        "id": "62DfShskAzqA",
        "colab": {
          "base_uri": "https://localhost:8080/"
        },
        "outputId": "fce4e8cd-d091-4999-d8c0-228d18cad5c1"
      },
      "source": [
        "l = [1, '22', 3, '444', 0.0, '5']\n",
        "\n",
        "new_l = [i for i in l if isinstance(i, int)]\n",
        "\n",
        "print(f'最大値 : {max(new_l)}')\n",
        "print(f'最小値 : {min(new_l)}')"
      ],
      "execution_count": null,
      "outputs": [
        {
          "output_type": "stream",
          "name": "stdout",
          "text": [
            "最大値 : 3\n",
            "最小値 : 1\n"
          ]
        }
      ]
    },
    {
      "cell_type": "markdown",
      "metadata": {
        "id": "wskE6cQyBBqK"
      },
      "source": [
        "## 問題41. "
      ]
    },
    {
      "cell_type": "markdown",
      "metadata": {
        "id": "d6LzmY0kpC_2"
      },
      "source": [
        "以下のリストで「数字部分とインデックス番号が一致する要素だけ」をリスト形式で出力するプログラムを「3行以下」で作成してください。\n",
        "\n",
        "※使用するリスト : \n",
        "```\n",
        "l = [0, '1', 3, 2, '4', 5, '7']\n",
        "```\n",
        "\n",
        "▼期待する出力\n",
        "```\n",
        "インデックスと値が一致 : [0, '1', '4', 5]\n",
        "```\n"
      ]
    },
    {
      "cell_type": "code",
      "metadata": {
        "id": "eoAD4NaCBh_8",
        "colab": {
          "base_uri": "https://localhost:8080/",
          "height": 235
        },
        "outputId": "3101b2e4-ce09-4944-9c11-bca97feb3b6c"
      },
      "source": [
        "# 自力無理\n",
        "l = [0, '1', 3, 2, '4', 5, '7']\n",
        "\n",
        "new_l = [i for i in l if int(l[i]) == int(i)]\n",
        "\n",
        "new_l = []\n",
        "for i in l:\n",
        "    i = int(i)\n",
        "    if l[i] == i:\n",
        "        new_l.append(l)\n",
        "\n",
        "print(f'インデックスと値が一致 : {new_l}')"
      ],
      "execution_count": null,
      "outputs": [
        {
          "output_type": "error",
          "ename": "IndexError",
          "evalue": "ignored",
          "traceback": [
            "\u001b[0;31m---------------------------------------------------------------------------\u001b[0m",
            "\u001b[0;31mIndexError\u001b[0m                                Traceback (most recent call last)",
            "\u001b[0;32m<ipython-input-5-48e35e482011>\u001b[0m in \u001b[0;36m<module>\u001b[0;34m()\u001b[0m\n\u001b[1;32m      6\u001b[0m \u001b[0;32mfor\u001b[0m \u001b[0mi\u001b[0m \u001b[0;32min\u001b[0m \u001b[0ml\u001b[0m\u001b[0;34m:\u001b[0m\u001b[0;34m\u001b[0m\u001b[0;34m\u001b[0m\u001b[0m\n\u001b[1;32m      7\u001b[0m     \u001b[0mi\u001b[0m \u001b[0;34m=\u001b[0m \u001b[0mint\u001b[0m\u001b[0;34m(\u001b[0m\u001b[0mi\u001b[0m\u001b[0;34m)\u001b[0m\u001b[0;34m\u001b[0m\u001b[0;34m\u001b[0m\u001b[0m\n\u001b[0;32m----> 8\u001b[0;31m     \u001b[0;32mif\u001b[0m \u001b[0ml\u001b[0m\u001b[0;34m[\u001b[0m\u001b[0mi\u001b[0m\u001b[0;34m]\u001b[0m \u001b[0;34m==\u001b[0m \u001b[0mi\u001b[0m\u001b[0;34m:\u001b[0m\u001b[0;34m\u001b[0m\u001b[0;34m\u001b[0m\u001b[0m\n\u001b[0m\u001b[1;32m      9\u001b[0m         \u001b[0mnew_l\u001b[0m\u001b[0;34m.\u001b[0m\u001b[0mappend\u001b[0m\u001b[0;34m(\u001b[0m\u001b[0ml\u001b[0m\u001b[0;34m)\u001b[0m\u001b[0;34m\u001b[0m\u001b[0;34m\u001b[0m\u001b[0m\n\u001b[1;32m     10\u001b[0m \u001b[0;34m\u001b[0m\u001b[0m\n",
            "\u001b[0;31mIndexError\u001b[0m: list index out of range"
          ]
        }
      ]
    },
    {
      "cell_type": "code",
      "source": [
        "l = [0, '1', 3, 2, '4', 5, '7']\n",
        "\n",
        "new_l = [v for i, v in enumerate(l) if i == int(v)]\n",
        "\n",
        "print(f'インデックスと値が一致 : {new_l}')"
      ],
      "metadata": {
        "colab": {
          "base_uri": "https://localhost:8080/"
        },
        "id": "MqB3ZyUI8LG9",
        "outputId": "88f154b4-2b05-442f-f2de-9879d4aacb09"
      },
      "execution_count": null,
      "outputs": [
        {
          "output_type": "stream",
          "name": "stdout",
          "text": [
            "インデックスと値が一致 : [0, '1', '4', 5]\n"
          ]
        }
      ]
    },
    {
      "cell_type": "markdown",
      "metadata": {
        "id": "b2O_kY48B3Eq"
      },
      "source": [
        "## 問題42. "
      ]
    },
    {
      "cell_type": "markdown",
      "metadata": {
        "id": "zCI1RjcspEz4"
      },
      "source": [
        "リスト内に重複している値が入っているか確認するプログラムを作成してください。\n",
        "\n",
        "`l = [1, 2, 3, 3]`の場合 : \n",
        "```\n",
        "重複している値があります。\n",
        "```\n",
        "\n",
        "`l = [1, 2, 3]`の場合 : \n",
        "```\n",
        "重複する値がありません。\n",
        "```"
      ]
    },
    {
      "cell_type": "code",
      "metadata": {
        "id": "QzsecDKeBv5g",
        "colab": {
          "base_uri": "https://localhost:8080/"
        },
        "outputId": "b6664bf0-2970-4104-cffe-b5df4fd31027"
      },
      "source": [
        "# 無理げー\n",
        "\n",
        "l = input(list())\n",
        "new_l = []\n",
        "\n",
        "for i in l:\n",
        "    if i in new_l:\n",
        "        print('重複している値があります')\n",
        "        break\n",
        "    else:\n",
        "        new_l.append(i)\n",
        "print('重複する値がありません')\n",
        "    \n"
      ],
      "execution_count": null,
      "outputs": [
        {
          "output_type": "stream",
          "name": "stdout",
          "text": [
            "1, 2, 3\n",
            "重複している値があります\n",
            "重複する値がありません\n"
          ]
        }
      ]
    },
    {
      "cell_type": "code",
      "source": [
        "l = [1, 2, 3, 3]\n",
        "print(l)\n",
        "print(set(l))\n",
        "\n",
        "if len(set(l)) < len(l):\n",
        "    print('重複している値があります')\n",
        "else:\n",
        "    print('重複している値がありません')"
      ],
      "metadata": {
        "colab": {
          "base_uri": "https://localhost:8080/"
        },
        "id": "rR75ay0mR_34",
        "outputId": "5208cc51-eab8-44a4-ba2b-5b8473137282"
      },
      "execution_count": null,
      "outputs": [
        {
          "output_type": "stream",
          "name": "stdout",
          "text": [
            "[1, 2, 3, 3]\n",
            "{1, 2, 3}\n",
            "重複している値があります\n"
          ]
        }
      ]
    },
    {
      "cell_type": "markdown",
      "metadata": {
        "id": "KbhmWhQtCQ65"
      },
      "source": [
        "## 問題43. "
      ]
    },
    {
      "cell_type": "markdown",
      "metadata": {
        "id": "1phCvq3VpGQF"
      },
      "source": [
        "以下のリストを、それぞれのデータ型でソートするプログラムを作成してください。\n",
        "\n",
        "※使用するリスト : \n",
        "```\n",
        "l = [4, 'aaa', 2, 'ddd', 'ccc', 3, 1, 'bbb']\n",
        "```\n",
        "\n",
        "▼期待する出力\n",
        "```\n",
        "ソートしたリスト : [1, 2, 3, 4, 'aaa', 'bbb', 'ccc', 'ddd']\n",
        "```"
      ]
    },
    {
      "cell_type": "code",
      "metadata": {
        "id": "5-LLOb1wCkM4",
        "colab": {
          "base_uri": "https://localhost:8080/"
        },
        "outputId": "7ea2a616-c863-4c57-b8a1-a2a54f8cbd50"
      },
      "source": [
        "l = [4, 'aaa', 2, 'ddd', 'ccc', 3, 1, 'bbb']\n",
        "\n",
        "int_l = []\n",
        "str_l = []\n",
        "\n",
        "for i in l:\n",
        "    if type(i) == int:\n",
        "        int_l.append(i)\n",
        "    elif type(i) == str:\n",
        "        str_l.append(i)\n",
        "\n",
        "int_l.sort()\n",
        "str_l.sort()\n",
        "\n",
        "l = int_l + str_l\n",
        "\n",
        "print(f'ソートしたリスト : {l}')"
      ],
      "execution_count": 1,
      "outputs": [
        {
          "output_type": "stream",
          "name": "stdout",
          "text": [
            "ソートしたリスト : [1, 2, 3, 4, 'aaa', 'bbb', 'ccc', 'ddd']\n"
          ]
        }
      ]
    },
    {
      "cell_type": "code",
      "source": [
        "# 模範解答\n",
        "del l\n",
        "l = [4, 'aaa', 2, 'ddd', 'ccc', 3, 1, 'bbb']\n",
        "\n",
        "int_l = sorted([v for v in l if isinstance(v, int)])\n",
        "str_l = sorted([v for v in l if isinstance(v, str)])\n",
        "\n",
        "print(f'ソートしたリスト : {int_l + str_l}')"
      ],
      "metadata": {
        "colab": {
          "base_uri": "https://localhost:8080/"
        },
        "id": "_e_94f5cC_C7",
        "outputId": "59c7b08e-cca3-4e0c-fe71-c126530ff68f"
      },
      "execution_count": 5,
      "outputs": [
        {
          "output_type": "stream",
          "name": "stdout",
          "text": [
            "ソートしたリスト : [1, 2, 3, 4, 'aaa', 'bbb', 'ccc', 'ddd']\n"
          ]
        }
      ]
    },
    {
      "cell_type": "markdown",
      "metadata": {
        "id": "Z2OxE8NPC0vY"
      },
      "source": [
        "## 問題44. "
      ]
    },
    {
      "cell_type": "markdown",
      "metadata": {
        "id": "SY2XHXzIpHiH"
      },
      "source": [
        "指定したリストに文字列が入っているか判定するプログラムを作成してください。\n",
        "\n",
        "`l = [1, 2, 3, '4', 5]`の場合 : \n",
        "```\n",
        "文字列が入っています。\n",
        "```\n",
        "\n",
        "`l = [1, 2, 3, 4, 5]`の場合 : \n",
        "```\n",
        "文字列は入っていません。\n",
        "```"
      ]
    },
    {
      "cell_type": "code",
      "metadata": {
        "id": "qZnrMsJvC0s5",
        "colab": {
          "base_uri": "https://localhost:8080/"
        },
        "outputId": "0cb74584-eca3-46f9-ae93-dec65864a4bb"
      },
      "source": [
        "#l = [1, 2, 3, '4', 5]\n",
        "l = [1, 2, 3, 4, 5]\n",
        "\n",
        "c = 0\n",
        "for i in l:\n",
        "    c += 1\n",
        "    if c < len(l):\n",
        "        if isinstance(i, str):\n",
        "            print('文字列が入っています。')\n",
        "            break\n",
        "        else:\n",
        "            c += 1\n",
        "    else:\n",
        "        if isinstance(i, str):\n",
        "            print('文字列が入っています。')\n",
        "            break\n",
        "        else:\n",
        "            print('文字列は入っていません。')\n"
      ],
      "execution_count": 9,
      "outputs": [
        {
          "output_type": "stream",
          "name": "stdout",
          "text": [
            "文字列は入っていません。\n",
            "文字列は入っていません。\n",
            "文字列は入っていません。\n"
          ]
        }
      ]
    },
    {
      "cell_type": "code",
      "source": [
        "# 模範解答\n",
        "\n",
        "l = [1, 2, 3, 4, 5]\n",
        "\n",
        "if any(isinstance(v, str) for v in l):\n",
        "    print('文字列が入っています。')\n",
        "else:\n",
        "    print('文字列が入っていません。')"
      ],
      "metadata": {
        "colab": {
          "base_uri": "https://localhost:8080/"
        },
        "id": "gyTYel6MFsGu",
        "outputId": "4c85e6e1-4d02-4843-b86c-5f4ef471a16c"
      },
      "execution_count": 11,
      "outputs": [
        {
          "output_type": "stream",
          "name": "stdout",
          "text": [
            "文字列が入っていません。\n"
          ]
        }
      ]
    },
    {
      "cell_type": "markdown",
      "metadata": {
        "id": "7SWGy6tKCkam"
      },
      "source": [
        "## 問題45. "
      ]
    },
    {
      "cell_type": "markdown",
      "metadata": {
        "id": "mvBuhxrcpIvZ"
      },
      "source": [
        "以下のリストで、全ての要素前に文字列”list”を追加するプログラムを作成してください。\n",
        "\n",
        "※使用するリスト : \n",
        "```\n",
        "l = [1, 2, 3, 4, 5]\n",
        "```\n",
        "\n",
        "期待する出力\n",
        "```\n",
        "\"list\"を追加したリスト : ['list', 1, 'list', 2, 'list', 3, 'list', 4, 'list', 5]\n",
        "```"
      ]
    },
    {
      "cell_type": "code",
      "metadata": {
        "id": "f6gVkXJND4Tc",
        "colab": {
          "base_uri": "https://localhost:8080/"
        },
        "outputId": "3a0ce965-8d66-486f-d5fa-08fe09ace3ff"
      },
      "source": [
        "l = [1, 2, 3, 4, 5]\n",
        "\n",
        "new_l = []\n",
        "for i in l:\n",
        "    new_l.append('list')\n",
        "    new_l.append(i)\n",
        "\n",
        "print(f'\"list\"を追加したリスト : {new_l}')"
      ],
      "execution_count": 13,
      "outputs": [
        {
          "output_type": "stream",
          "name": "stdout",
          "text": [
            "\"list\"を追加したリスト : ['list', 1, 'list', 2, 'list', 3, 'list', 4, 'list', 5]\n"
          ]
        }
      ]
    },
    {
      "cell_type": "code",
      "source": [
        "# 模範解答\n",
        "# 最終リストは偶数番目の要素が'list'である\n",
        "l = [1, 2, 3, 4, 5]\n",
        "\n",
        "for i in range(0, 10, 2):\n",
        "    l.insert(i, 'list')\n",
        "\n",
        "print(f'\"list\"を追加したリスト : {l}')"
      ],
      "metadata": {
        "colab": {
          "base_uri": "https://localhost:8080/"
        },
        "id": "vrO5xi99HtK_",
        "outputId": "56440703-3abe-4aaa-c064-87ef795929bd"
      },
      "execution_count": 14,
      "outputs": [
        {
          "output_type": "stream",
          "name": "stdout",
          "text": [
            "\"list\"を追加したリスト : ['list', 1, 'list', 2, 'list', 3, 'list', 4, 'list', 5]\n"
          ]
        }
      ]
    },
    {
      "cell_type": "markdown",
      "metadata": {
        "id": "Q7hvXuuHD-i8"
      },
      "source": [
        "## 問題46. "
      ]
    },
    {
      "cell_type": "markdown",
      "metadata": {
        "id": "o298lXHTpJ9G"
      },
      "source": [
        "以下のリストで文字列”Python”が含まれている要素を削除するプログラムを作成してください。\n",
        "\n",
        "※使用するリスト : \n",
        "```\n",
        "l = ['Python1', 'Java1', 1, 'Python2', 'Java2', 2]\n",
        "```\n",
        "\n",
        "▼期待する出力\n",
        "```\n",
        "文字列\"Python\"を削除したリスト : ['Java1', 1, 'Java2', 2]\n",
        "```"
      ]
    },
    {
      "cell_type": "code",
      "metadata": {
        "id": "ZqbVbifXMTR1",
        "colab": {
          "base_uri": "https://localhost:8080/"
        },
        "outputId": "7d561b2c-c484-4759-a999-6d3d41b75307"
      },
      "source": [
        "l = ['Python1', 'Java1', 1, 'Python2', 'Java2', 2]\n",
        "\n",
        "for i in l:\n",
        "    print(i)\n",
        "    if 'Python' in str(i):\n",
        "        l.remove(i)\n",
        "\n",
        "print(f'文字列\"Python\"を削除したリスト : {l}')"
      ],
      "execution_count": 19,
      "outputs": [
        {
          "output_type": "stream",
          "name": "stdout",
          "text": [
            "Python1\n",
            "1\n",
            "Python2\n",
            "2\n",
            "文字列\"Python\"を削除したリスト : ['Java1', 1, 'Java2', 2]\n"
          ]
        }
      ]
    },
    {
      "cell_type": "code",
      "source": [
        "# 追加回答\n",
        "# 元のリストから要素を削除したリストを作成する際は、新しくリストを作成する\n",
        "\n",
        "l = ['Python1', 'Java1', 1, 'Python2', 'Java2', 2]\n",
        "\n",
        "new_l = [v for v in l if 'Python' not in str(v)]\n",
        "print(f'文字列\"Python\"を削除したリスト : {new_l}')"
      ],
      "metadata": {
        "colab": {
          "base_uri": "https://localhost:8080/"
        },
        "id": "P4_cLiWXJsJx",
        "outputId": "5738e02c-4ec8-42a7-8ab5-99caaa5d5d0e"
      },
      "execution_count": 20,
      "outputs": [
        {
          "output_type": "stream",
          "name": "stdout",
          "text": [
            "文字列\"Python\"を削除したリスト : ['Java1', 1, 'Java2', 2]\n"
          ]
        }
      ]
    },
    {
      "cell_type": "markdown",
      "metadata": {
        "id": "3KiY9pGhICKi"
      },
      "source": [
        "## 問題47. "
      ]
    },
    {
      "cell_type": "markdown",
      "metadata": {
        "id": "RufvFsxppLb_"
      },
      "source": [
        "以下のリストで、インデックス番号と格納されている値が、ともに3の倍数の要素を削除するプログラムを作成してください。\n",
        "\n",
        "※使用するリスト : \n",
        "```\n",
        "l = [1, 3, 2, 3, 4, 6, 5, 8, 7]\n",
        "```\n",
        "\n",
        "▼期待する出力\n",
        "```\n",
        "削除後のリスト : [1, 3, 2, 4, 6, 5, 8, 7]\n",
        "```"
      ]
    },
    {
      "cell_type": "code",
      "metadata": {
        "id": "p8ws5ebwH3Y4",
        "colab": {
          "base_uri": "https://localhost:8080/"
        },
        "outputId": "99cd4484-136e-4f9d-a684-505dc7b4fb87"
      },
      "source": [
        "l = [1, 3, 2, 3, 4, 6, 5, 8, 7]\n",
        "\n",
        "new_l = []\n",
        "for i, v in enumerate(l):\n",
        "    if i % 3 == 0 and v % 3 == 0:\n",
        "        continue\n",
        "    else:\n",
        "        new_l.append(v)\n",
        "    \n",
        "print(f'削除後のリスト : {new_l}')"
      ],
      "execution_count": 21,
      "outputs": [
        {
          "output_type": "stream",
          "name": "stdout",
          "text": [
            "削除後のリスト : [1, 3, 2, 4, 6, 5, 8, 7]\n"
          ]
        }
      ]
    },
    {
      "cell_type": "code",
      "source": [
        "# 模範解答\n",
        "l = [1, 3, 2, 3, 4, 6, 5, 8, 7]\n",
        "\n",
        "new_l = [v for i, v in enumerate(l) if not (i % 3 == 0 and v % 3 == 0)]\n",
        "\n",
        "print(f'削除後のリスト : {new_l}')"
      ],
      "metadata": {
        "colab": {
          "base_uri": "https://localhost:8080/"
        },
        "id": "k7ORbzqjLZNc",
        "outputId": "bee4d165-9f3e-4978-de41-c1ad2f5e8628"
      },
      "execution_count": 23,
      "outputs": [
        {
          "output_type": "stream",
          "name": "stdout",
          "text": [
            "削除後のリスト : [1, 3, 2, 4, 6, 5, 8, 7]\n"
          ]
        }
      ]
    },
    {
      "cell_type": "markdown",
      "metadata": {
        "id": "kwVIJeNcIWG2"
      },
      "source": [
        "## 問題48. "
      ]
    },
    {
      "cell_type": "markdown",
      "metadata": {
        "id": "7H0hbHEDpMuH"
      },
      "source": [
        "以下のリストで電話番号が080で始まる要素だけ取り出すプログラムを作成してください。(※適当に作成した電話番号なので、電話しないようにしてください。)\n",
        "\n",
        "※使用するリスト : \n",
        "```\n",
        "telephone_numbers = ['080-1203-4455', '090-9372-9682', '090-3080-4982', '080-3917-5918']\n",
        "```\n",
        "\n",
        "▼期待する出力\n",
        "```\n",
        "080で始まる電話番号 : ['080-1203-4455', '080-3917-5918']\n",
        "```"
      ]
    },
    {
      "cell_type": "code",
      "metadata": {
        "id": "KGfiFmacJvIH"
      },
      "source": [
        ""
      ],
      "execution_count": null,
      "outputs": []
    },
    {
      "cell_type": "markdown",
      "metadata": {
        "id": "8P0bUcgaJ4fu"
      },
      "source": [
        "## 問題49. "
      ]
    },
    {
      "cell_type": "markdown",
      "metadata": {
        "id": "_Ff7bqgLpOJF"
      },
      "source": [
        "以下のリストで、携帯電話の番号だけ取り出すプログラムを作成してください。(※適当に作成した電話番号なので、電話しないようにしてください。)\n",
        "\n",
        "※使用するリスト : \n",
        "```\n",
        "phone_numbers = ['080-1203-4455', '090-9372-9682', '03-9471-5929', '070-3917-5918', '04-8572-8910']\n",
        "```\n",
        "\n",
        "▼期待する出力\n",
        "```\n",
        "携帯電話の番号 : ['080-1203-4455', '090-9372-9682', '070-3917-5918']\n",
        "```"
      ]
    },
    {
      "cell_type": "code",
      "metadata": {
        "id": "shpSrxVcKLjK"
      },
      "source": [
        ""
      ],
      "execution_count": null,
      "outputs": []
    },
    {
      "cell_type": "markdown",
      "metadata": {
        "id": "cKtYyvgPKWkv"
      },
      "source": [
        "## 問題50. "
      ]
    },
    {
      "cell_type": "markdown",
      "metadata": {
        "id": "n3qojBWWpPl-"
      },
      "source": [
        "以下の3つのリストで、最も平均値が高いリストを出力するプログラムを作成してください。(※変数の定義を除いて、3行で書けるとベストです！)\n",
        "\n",
        "※使用するリスト :\n",
        "```\n",
        "l1 = [4, 6, 9, 2]\n",
        "l2 = [3, 5, 7]\n",
        "l3 = [1, 9, 7]\n",
        "```\n",
        "\n",
        "▼期待する出力:\n",
        "```\n",
        "平均値が最も高いリスト : [1, 9, 7]\n",
        "```"
      ]
    },
    {
      "cell_type": "code",
      "metadata": {
        "id": "78Myu7JkKWiA"
      },
      "source": [
        ""
      ],
      "execution_count": null,
      "outputs": []
    },
    {
      "cell_type": "code",
      "metadata": {
        "id": "jmy5NX2zHNWm"
      },
      "source": [
        ""
      ],
      "execution_count": null,
      "outputs": []
    }
  ]
}