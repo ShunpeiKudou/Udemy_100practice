{
  "nbformat": 4,
  "nbformat_minor": 0,
  "metadata": {
    "colab": {
      "name": "lesson4.ipynb",
      "provenance": [],
      "collapsed_sections": [
        "f1U09_2yhNAa",
        "6SBfR6d5hOiv",
        "HTL6qr0XhQRt",
        "kVXSG69IhRuC",
        "0ERJEJonhTJC",
        "t2_zAfKjhUg1",
        "ffUc6X3ShV6g",
        "K2c8I1AhhXLP",
        "BLYsA7xbhYb2",
        "u0cHqyJyhZpZ"
      ],
      "toc_visible": true,
      "include_colab_link": true
    },
    "kernelspec": {
      "name": "python3",
      "display_name": "Python 3"
    },
    "language_info": {
      "name": "python"
    }
  },
  "cells": [
    {
      "cell_type": "markdown",
      "metadata": {
        "id": "view-in-github",
        "colab_type": "text"
      },
      "source": [
        "<a href=\"https://colab.research.google.com/github/ShunpeiKudou/Udemy_100practice/blob/main/lesson4.ipynb\" target=\"_parent\"><img src=\"https://colab.research.google.com/assets/colab-badge.svg\" alt=\"Open In Colab\"/></a>"
      ]
    },
    {
      "cell_type": "markdown",
      "metadata": {
        "id": "Et0Mn92pvi1L"
      },
      "source": [
        "# 文字型【10問】"
      ]
    },
    {
      "cell_type": "markdown",
      "metadata": {
        "id": "f1U09_2yhNAa"
      },
      "source": [
        "## 問題16. "
      ]
    },
    {
      "cell_type": "markdown",
      "metadata": {
        "id": "xiOrQTAQvnbJ"
      },
      "source": [
        "入力した文字列と、その長さを出力するプログラムを作成してください。\n",
        "\n",
        "※組み込み関数を使わずに解いてみてください。\n",
        "\n",
        "```\n",
        "文字を入力してください > Python\n",
        "Pythonの文字数 : 6\n",
        "```"
      ]
    },
    {
      "cell_type": "code",
      "metadata": {
        "id": "bzcenLbCvrsB",
        "colab": {
          "base_uri": "https://localhost:8080/"
        },
        "outputId": "49ea8015-3913-46be-851c-a9ac2b74383c"
      },
      "source": [
        "input_str = input('文字を入力してください >')\n",
        "length = 0\n",
        "for _ in input_str: #変数を使わないときは「_」にするとよい\n",
        "    length += 1\n",
        "\n",
        "print(f'{input_str}の文字数 : {length}')"
      ],
      "execution_count": null,
      "outputs": [
        {
          "output_type": "stream",
          "name": "stdout",
          "text": [
            "文字を入力してください >Python\n",
            "Pythonの文字数 : 6\n"
          ]
        }
      ]
    },
    {
      "cell_type": "markdown",
      "metadata": {
        "id": "6SBfR6d5hOiv"
      },
      "source": [
        "## 問題17. "
      ]
    },
    {
      "cell_type": "markdown",
      "metadata": {
        "id": "u1HAwdMQxKwD"
      },
      "source": [
        "入力した文字列の、最初と最後の文字を出力するプログラムを作成してください。\n",
        "\n",
        "```\n",
        "文字を入力してください > Python\n",
        "Pythonの最初の文字 : P\n",
        "Pythonの最後の文字 : n\n",
        "```"
      ]
    },
    {
      "cell_type": "code",
      "metadata": {
        "id": "5am9dFcuvwsy",
        "colab": {
          "base_uri": "https://localhost:8080/"
        },
        "outputId": "ebbe032a-8308-456d-e236-b9dadb657d93"
      },
      "source": [
        "word = input('文字を入力してください >')\n",
        "print(f'{word}の最初の文字 : {word[0]}')\n",
        "print(f'{word}の最後の文字 : {word[-1]}')"
      ],
      "execution_count": null,
      "outputs": [
        {
          "output_type": "stream",
          "name": "stdout",
          "text": [
            "文字を入力してください >Kudo SHunpei\n",
            "Kudo SHunpeiの最初の文字 : K\n",
            "Kudo SHunpeiの最後の文字 : i\n"
          ]
        }
      ]
    },
    {
      "cell_type": "markdown",
      "metadata": {
        "id": "HTL6qr0XhQRt"
      },
      "source": [
        "## 問題18. "
      ]
    },
    {
      "cell_type": "markdown",
      "metadata": {
        "id": "RaUGDmwHxYZU"
      },
      "source": [
        "入力した文字列に登場する文字の、出現頻度をカウントするプログラムを作成してください。\n",
        "\n",
        "```\n",
        "文字列を入力してください > PythonPractice\n",
        "{'P': 2, 'y': 1, 't': 2, 'h': 1, 'o': 1, 'n': 1, 'r': 1, 'a': 1, 'c': 2, 'i': 1, 'e': 1}\n",
        "```"
      ]
    },
    {
      "cell_type": "code",
      "metadata": {
        "id": "fYEG8x5WxQeJ",
        "colab": {
          "base_uri": "https://localhost:8080/"
        },
        "outputId": "23922a9a-d971-4d52-a721-3c88862fdca2"
      },
      "source": [
        "word = input('文字列を入力してください >')\n",
        "\n",
        "dic = dict()\n",
        "for w in word:\n",
        "    c = word.count(w)\n",
        "    dic[w] = c\n",
        "    c = 0\n",
        "\n",
        "print(dic)"
      ],
      "execution_count": null,
      "outputs": [
        {
          "output_type": "stream",
          "name": "stdout",
          "text": [
            "文字列を入力してください >PythonPractice\n",
            "{'P': 2, 'y': 1, 't': 2, 'h': 1, 'o': 1, 'n': 1, 'r': 1, 'a': 1, 'c': 2, 'i': 1, 'e': 1}\n"
          ]
        }
      ]
    },
    {
      "cell_type": "code",
      "source": [
        "word = input('文字列を入力してください >')\n",
        "\n",
        "dic = dict()\n",
        "for w in word:\n",
        "    if w in dic.keys():\n",
        "        dic[w] += 1\n",
        "    else:\n",
        "        dic[w] = 1\n",
        "\n",
        "print(dic)"
      ],
      "metadata": {
        "colab": {
          "base_uri": "https://localhost:8080/"
        },
        "id": "w3X8zZttCRPn",
        "outputId": "8dd3c922-d44b-4d37-c81d-babd7f19c539"
      },
      "execution_count": null,
      "outputs": [
        {
          "output_type": "stream",
          "name": "stdout",
          "text": [
            "文字列を入力してください >PythonPractice\n",
            "{'P': 2, 'y': 1, 't': 2, 'h': 1, 'o': 1, 'n': 1, 'r': 1, 'a': 1, 'c': 2, 'i': 1, 'e': 1}\n"
          ]
        }
      ]
    },
    {
      "cell_type": "markdown",
      "metadata": {
        "id": "kVXSG69IhRuC"
      },
      "source": [
        "## 問題19. "
      ]
    },
    {
      "cell_type": "markdown",
      "metadata": {
        "id": "Q0GqoXbbxruH"
      },
      "source": [
        "入力した英単語から、母音(a, i, u, e, o)を取り除くプログラムを作成してください。\n",
        "\n",
        "```\n",
        "文字列を入力してください > Python\n",
        "作成した文字列 : Pythn\n",
        "```"
      ]
    },
    {
      "cell_type": "code",
      "metadata": {
        "id": "rgthOFV_xrsI",
        "colab": {
          "base_uri": "https://localhost:8080/",
          "height": 253
        },
        "outputId": "7e0d7c6b-7e01-4842-bbb6-72e0eefb9186"
      },
      "source": [
        "# 自力失敗\n",
        "word = input('文字列を入力してください >')\n",
        "\n",
        "new_word = str()\n",
        "for s in word:\n",
        "    if s == ['a|i|u|e|o']:\n",
        "        continue\n",
        "    else:\n",
        "        new_word[s] = s\n",
        "\n",
        "print(new_word)"
      ],
      "execution_count": null,
      "outputs": [
        {
          "name": "stdout",
          "output_type": "stream",
          "text": [
            "文字列を入力してください >Python\n"
          ]
        },
        {
          "output_type": "error",
          "ename": "TypeError",
          "evalue": "ignored",
          "traceback": [
            "\u001b[0;31m---------------------------------------------------------------------------\u001b[0m",
            "\u001b[0;31mTypeError\u001b[0m                                 Traceback (most recent call last)",
            "\u001b[0;32m<ipython-input-13-14b466948bff>\u001b[0m in \u001b[0;36m<module>\u001b[0;34m()\u001b[0m\n\u001b[1;32m      6\u001b[0m         \u001b[0;32mcontinue\u001b[0m\u001b[0;34m\u001b[0m\u001b[0;34m\u001b[0m\u001b[0m\n\u001b[1;32m      7\u001b[0m     \u001b[0;32melse\u001b[0m\u001b[0;34m:\u001b[0m\u001b[0;34m\u001b[0m\u001b[0;34m\u001b[0m\u001b[0m\n\u001b[0;32m----> 8\u001b[0;31m         \u001b[0mnew_word\u001b[0m\u001b[0;34m[\u001b[0m\u001b[0ms\u001b[0m\u001b[0;34m]\u001b[0m \u001b[0;34m=\u001b[0m \u001b[0ms\u001b[0m\u001b[0;34m\u001b[0m\u001b[0;34m\u001b[0m\u001b[0m\n\u001b[0m\u001b[1;32m      9\u001b[0m \u001b[0;34m\u001b[0m\u001b[0m\n\u001b[1;32m     10\u001b[0m \u001b[0mprint\u001b[0m\u001b[0;34m(\u001b[0m\u001b[0mnew_word\u001b[0m\u001b[0;34m)\u001b[0m\u001b[0;34m\u001b[0m\u001b[0;34m\u001b[0m\u001b[0m\n",
            "\u001b[0;31mTypeError\u001b[0m: 'str' object does not support item assignment"
          ]
        }
      ]
    },
    {
      "cell_type": "code",
      "source": [
        "vowels = ['a', 'i', 'u', 'e', 'o']\n",
        "\n",
        "word = input('文字列を入力してください >')\n",
        "\n",
        "new_word = ''\n",
        "for s in word:\n",
        "    if s in vowels:\n",
        "        continue\n",
        "    new_word += s\n",
        "\n",
        "print(f'作成した文字列 : {new_word}')"
      ],
      "metadata": {
        "colab": {
          "base_uri": "https://localhost:8080/"
        },
        "id": "1a-C0oZHFgR-",
        "outputId": "f9a3eb0b-3587-465a-e401-dc0a57bc1cf1"
      },
      "execution_count": null,
      "outputs": [
        {
          "output_type": "stream",
          "name": "stdout",
          "text": [
            "文字列を入力してください >Shunpei\n",
            "作成した文字列 : Shnp\n"
          ]
        }
      ]
    },
    {
      "cell_type": "markdown",
      "metadata": {
        "id": "VOALYEnVyAM2"
      },
      "source": [
        "別解"
      ]
    },
    {
      "cell_type": "code",
      "metadata": {
        "id": "IFJht5dxyH6f",
        "colab": {
          "base_uri": "https://localhost:8080/"
        },
        "outputId": "c0cdd6f7-84e4-494f-97fb-4cb1d11240a0"
      },
      "source": [
        "vowels = ['a', 'i', 'u', 'e', 'o']\n",
        "\n",
        "word = input('文字列を入力してください >')\n",
        "\n",
        "for v in vowels:\n",
        "    word = word.replace(v, '')\n",
        "\n",
        "print(f'作成した文字列 : {word}')"
      ],
      "execution_count": null,
      "outputs": [
        {
          "output_type": "stream",
          "name": "stdout",
          "text": [
            "文字列を入力してください >Python\n",
            "作成した文字列 : Pythn\n"
          ]
        }
      ]
    },
    {
      "cell_type": "markdown",
      "metadata": {
        "id": "0ERJEJonhTJC"
      },
      "source": [
        "## 問題20. "
      ]
    },
    {
      "cell_type": "markdown",
      "metadata": {
        "id": "MJo0GfuoyXM2"
      },
      "source": [
        "入力した英単語を大文字に変換するプログラムを作成してください。\n",
        "\n",
        "```\n",
        "英単語を入力してください > Python\n",
        "変換後の文字列 : PYTHON\n",
        "```"
      ]
    },
    {
      "cell_type": "code",
      "metadata": {
        "id": "h0zwTmYNyQS0",
        "colab": {
          "base_uri": "https://localhost:8080/"
        },
        "outputId": "8a8a42dd-6d62-49da-9aaf-ca2079d786cb"
      },
      "source": [
        "word = input('英単語を入力してください >')\n",
        "word = word.upper()\n",
        "print(f'変換後の文字列 : {word}')"
      ],
      "execution_count": null,
      "outputs": [
        {
          "output_type": "stream",
          "name": "stdout",
          "text": [
            "英単語を入力してください >Python\n",
            "変換後の文字列 : PYTHON\n"
          ]
        }
      ]
    },
    {
      "cell_type": "markdown",
      "metadata": {
        "id": "t2_zAfKjhUg1"
      },
      "source": [
        "## 問題21. "
      ]
    },
    {
      "cell_type": "markdown",
      "metadata": {
        "id": "P37-P2zCyjkE"
      },
      "source": [
        "入力した英単語の先頭1文字が、小文字だったら大文字に変換、大文字だったら2回反復するプログラムを作成してください。\n",
        "\n",
        "<br>\n",
        "\n",
        "大文字の例：\n",
        "```\n",
        "文字列を入力してください > Python\n",
        "変換後の文字列 : PythonPython\n",
        "```\n",
        "\n",
        "小文字の例：\n",
        "```\n",
        "文字列を入力してください > python\n",
        "変換後の文字列 : Python\n",
        "```"
      ]
    },
    {
      "cell_type": "code",
      "metadata": {
        "id": "T_4GH8zwypaW",
        "colab": {
          "base_uri": "https://localhost:8080/"
        },
        "outputId": "0e745bfe-222f-4e8e-b3c7-59461b91903b"
      },
      "source": [
        "word = input('文字列を入力してください >')\n",
        "\n",
        "if word[0] == word[0].upper():\n",
        "    word = (word * 2)\n",
        "else:\n",
        "    word = word.capitalize()\n",
        "\n",
        "print(f'変換後の文字列 : {word}')"
      ],
      "execution_count": 3,
      "outputs": [
        {
          "output_type": "stream",
          "name": "stdout",
          "text": [
            "文字列を入力してください >python\n",
            "変換後の文字列 : Python\n"
          ]
        }
      ]
    },
    {
      "cell_type": "code",
      "source": [
        "word = input('文字列を入力してください >')\n",
        "\n",
        "if word[0].islower():\n",
        "    word = word[0].upper() + word[1:]\n",
        "elif word[0].isupper():\n",
        "    word = word * 2\n",
        "\n",
        "print(f'変換後の文字列 : {word}')"
      ],
      "metadata": {
        "colab": {
          "base_uri": "https://localhost:8080/"
        },
        "id": "JamM9lnRKU1e",
        "outputId": "165de99f-dc2e-466c-87ff-e9bd887873d2"
      },
      "execution_count": 4,
      "outputs": [
        {
          "output_type": "stream",
          "name": "stdout",
          "text": [
            "文字列を入力してください >Python\n",
            "変換後の文字列 : PythonPython\n"
          ]
        }
      ]
    },
    {
      "cell_type": "markdown",
      "metadata": {
        "id": "ffUc6X3ShV6g"
      },
      "source": [
        "## 問題22. "
      ]
    },
    {
      "cell_type": "markdown",
      "metadata": {
        "id": "aiOFrSoAzEbq"
      },
      "source": [
        "2つの文字列を入力して、重複する部分だけ出力するプログラムを作成してください。\n",
        "\n",
        "```\n",
        "1つ目の文字列を入力してください > Python\n",
        "2つ目の文字列を入力してください > PHP\n",
        "重複する文字列 : P\n",
        "```"
      ]
    },
    {
      "cell_type": "code",
      "metadata": {
        "id": "nXjhF0ESzEad",
        "colab": {
          "base_uri": "https://localhost:8080/"
        },
        "outputId": "889423bc-1d2b-42f8-f007-6108e9c66e92"
      },
      "source": [
        "w1 = input('1つ目の文字列を入力してください >')\n",
        "w2 = input('2つ目の文字列を入力してください >')\n",
        "\n",
        "l = []\n",
        "\n",
        "for i in w1:\n",
        "    if i in w2:\n",
        "        l.append(i)\n",
        "\n",
        "print(f'重複する文字列: {l}')"
      ],
      "execution_count": 6,
      "outputs": [
        {
          "output_type": "stream",
          "name": "stdout",
          "text": [
            "1つ目の文字列を入力してください >Python\n",
            "2つ目の文字列を入力してください >PHP\n",
            "重複する文字列: ['P']\n"
          ]
        }
      ]
    },
    {
      "cell_type": "code",
      "source": [
        "w1 = input('1つ目の文字列を入力してください >')\n",
        "w2 = input('2つ目の文字列を入力してください >')\n",
        "\n",
        "r = ''\n",
        "\n",
        "for ch in w1:\n",
        "    if ch in w2 and ch not in r:\n",
        "        r += ch\n",
        "\n",
        "print(f'重複する文字列: {r}')"
      ],
      "metadata": {
        "colab": {
          "base_uri": "https://localhost:8080/"
        },
        "id": "Gql-ZSKALd96",
        "outputId": "c9f286d7-3805-4700-8532-3d05b8c25d4f"
      },
      "execution_count": 7,
      "outputs": [
        {
          "output_type": "stream",
          "name": "stdout",
          "text": [
            "1つ目の文字列を入力してください >PHP\n",
            "2つ目の文字列を入力してください >Python\n",
            "P\n"
          ]
        }
      ]
    },
    {
      "cell_type": "markdown",
      "metadata": {
        "id": "K2c8I1AhhXLP"
      },
      "source": [
        "## 問題23. "
      ]
    },
    {
      "cell_type": "markdown",
      "metadata": {
        "id": "V_1fOZCUzEXr"
      },
      "source": [
        "2つの文字列を入力して、重複する「英単語」を出力するプログラムを作成してください。\n",
        "\n",
        "※少し難しいですが、出力の形に注目すると、答えが見えてくるはずです。\n",
        "\n",
        "```\n",
        "1つ目の英文を入力してください > Python is hard.\n",
        "2つ目の英文を入力してください > PHP is easy.\n",
        "重複する英単語 : ['is']\n",
        "```"
      ]
    },
    {
      "cell_type": "code",
      "metadata": {
        "id": "Iu7fXX2RyvS-",
        "colab": {
          "base_uri": "https://localhost:8080/"
        },
        "outputId": "de235066-7827-45bd-deec-b1b307f98246"
      },
      "source": [
        "sentence1 = input('1つ目の英文を入力してください >')\n",
        "sentence2 = input('2つ目の英文を入力してください >')\n",
        "\n",
        "sentence1 = list(sentence1.split())\n",
        "sentence2 = list(sentence2.split())\n",
        "\n",
        "l_double = []\n",
        "\n",
        "for w in sentence1:\n",
        "    if w in sentence2 and w not in l_double:\n",
        "        l_double.append(w)\n",
        "\n",
        "print(f'重複する英単語 : {l_double}')"
      ],
      "execution_count": 10,
      "outputs": [
        {
          "output_type": "stream",
          "name": "stdout",
          "text": [
            "1つ目の英文を入力してください >Python is hard.\n",
            "2つ目の英文を入力してください >PHP is easy.\n",
            "['Python', 'is', 'hard.']\n",
            "重複する英単語 : ['is']\n"
          ]
        }
      ]
    },
    {
      "cell_type": "markdown",
      "metadata": {
        "id": "BLYsA7xbhYb2"
      },
      "source": [
        "## 問題24. "
      ]
    },
    {
      "cell_type": "markdown",
      "metadata": {
        "id": "5f2Ol3lNz0A8"
      },
      "source": [
        "入力した英単語の中央に、@を差し込んで出力するプログラムを作成してください。\n",
        "\n",
        "なお、入力した英単語の長さが奇数なら、真ん中のアルファベットを@に変換してください。\n",
        "\n",
        "<br>\n",
        "\n",
        "英単語の長さが偶数\n",
        "```\n",
        "英単語を入力してください > Python\n",
        "変換した英単語 : Pyt@hon\n",
        "```\n",
        "\n",
        "英単語の長さが奇数\n",
        "```\n",
        "英単語を入力してください > PHP\n",
        "変換した英単語 : P@P\n",
        "```"
      ]
    },
    {
      "cell_type": "code",
      "metadata": {
        "id": "ZC7T4KgLzol2",
        "colab": {
          "base_uri": "https://localhost:8080/",
          "height": 253
        },
        "outputId": "ee4f05db-4044-4696-cc94-92a094adda37"
      },
      "source": [
        "# 自力無理\n",
        "word = input('英単語を入力 >')\n",
        "\n",
        "i = 0\n",
        "if len(word) % 2 == 0:\n",
        "    word = list(word)\n",
        "    i = len(word) // 2\n",
        "    word.insert(i, '@')\n",
        "    word = ''.join(word)\n",
        "else:\n",
        "    i = (len(word) - 1 // 2)\n",
        "    word[i] = str('@')\n",
        "\n",
        "print(f'変換した英単語 : {word}')"
      ],
      "execution_count": 26,
      "outputs": [
        {
          "name": "stdout",
          "output_type": "stream",
          "text": [
            "英単語を入力 >PHP\n"
          ]
        },
        {
          "output_type": "error",
          "ename": "TypeError",
          "evalue": "ignored",
          "traceback": [
            "\u001b[0;31m---------------------------------------------------------------------------\u001b[0m",
            "\u001b[0;31mTypeError\u001b[0m                                 Traceback (most recent call last)",
            "\u001b[0;32m<ipython-input-26-95692d137f32>\u001b[0m in \u001b[0;36m<module>\u001b[0;34m()\u001b[0m\n\u001b[1;32m      9\u001b[0m \u001b[0;32melse\u001b[0m\u001b[0;34m:\u001b[0m\u001b[0;34m\u001b[0m\u001b[0;34m\u001b[0m\u001b[0m\n\u001b[1;32m     10\u001b[0m     \u001b[0mi\u001b[0m \u001b[0;34m=\u001b[0m \u001b[0;34m(\u001b[0m\u001b[0mlen\u001b[0m\u001b[0;34m(\u001b[0m\u001b[0mword\u001b[0m\u001b[0;34m)\u001b[0m \u001b[0;34m-\u001b[0m \u001b[0;36m1\u001b[0m \u001b[0;34m//\u001b[0m \u001b[0;36m2\u001b[0m\u001b[0;34m)\u001b[0m\u001b[0;34m\u001b[0m\u001b[0;34m\u001b[0m\u001b[0m\n\u001b[0;32m---> 11\u001b[0;31m     \u001b[0mword\u001b[0m\u001b[0;34m[\u001b[0m\u001b[0mi\u001b[0m\u001b[0;34m]\u001b[0m \u001b[0;34m=\u001b[0m \u001b[0mstr\u001b[0m\u001b[0;34m(\u001b[0m\u001b[0;34m'@'\u001b[0m\u001b[0;34m)\u001b[0m\u001b[0;34m\u001b[0m\u001b[0;34m\u001b[0m\u001b[0m\n\u001b[0m\u001b[1;32m     12\u001b[0m     \u001b[0mword\u001b[0m \u001b[0;34m=\u001b[0m \u001b[0;34m''\u001b[0m\u001b[0;34m.\u001b[0m\u001b[0mjoin\u001b[0m\u001b[0;34m(\u001b[0m\u001b[0mword\u001b[0m\u001b[0;34m)\u001b[0m\u001b[0;34m\u001b[0m\u001b[0;34m\u001b[0m\u001b[0m\n\u001b[1;32m     13\u001b[0m \u001b[0;34m\u001b[0m\u001b[0m\n",
            "\u001b[0;31mTypeError\u001b[0m: 'str' object does not support item assignment"
          ]
        }
      ]
    },
    {
      "cell_type": "code",
      "source": [
        "word = input('英単語を入力 >')\n",
        "count = 0\n",
        "\n",
        "# 単語の長さを計算する\n",
        "for _ in word:\n",
        "    count += 1\n",
        "\n",
        "index = count // 2\n",
        "\n",
        "# 偶数か奇数化に応じて処理を分岐させる(if)\n",
        "if count % 2 == 0:\n",
        "    word = word[:index] + '@' + word[index:]\n",
        "else:\n",
        "    word = word[:index] + '@' + word[index+1:]\n",
        "\n",
        "print(f'変換した英単語 : {word}')"
      ],
      "metadata": {
        "colab": {
          "base_uri": "https://localhost:8080/"
        },
        "id": "wxtoWPBGS4BW",
        "outputId": "5bd8c27e-0b08-4235-f878-a051818c3dd2"
      },
      "execution_count": 28,
      "outputs": [
        {
          "output_type": "stream",
          "name": "stdout",
          "text": [
            "英単語を入力 >Python\n",
            "変換した英単語 : Pyt@hon\n"
          ]
        }
      ]
    },
    {
      "cell_type": "markdown",
      "metadata": {
        "id": "u0cHqyJyhZpZ"
      },
      "source": [
        "## 問題25. "
      ]
    },
    {
      "cell_type": "markdown",
      "metadata": {
        "id": "r1H4c7TO0U41"
      },
      "source": [
        "入力した3つの英単語を、カンマ区切りでアルファベット順になるように並び替えるプログラムを作成してください。\n",
        "\n",
        "```\n",
        "1つ目の英単語を入力してください > Python\n",
        "2つ目の英単語を入力してください > Ruby\n",
        "3つ目の英単語を入力してください > Java\n",
        "並び替えた英単語 : Java, Python, Ruby\n",
        "```"
      ]
    },
    {
      "cell_type": "code",
      "metadata": {
        "id": "pbXniVXS0CYs",
        "colab": {
          "base_uri": "https://localhost:8080/"
        },
        "outputId": "bdb07dc2-1929-4f34-81d8-e387774ed0b7"
      },
      "source": [
        "word1 = input('1つ目の英単語を入力してください >')\n",
        "word2 = input('2つ目の英単語を入力してください >')\n",
        "word3 = input('3つ目の英単語を入力してください >')\n",
        "\n",
        "words = [word1, word2, word3]\n",
        "words.sort()\n",
        "\n",
        "# 講義を見て追加\n",
        "sort_words = ', '.join(words)\n",
        "\n",
        "print(f'並び替えた英単語 : {sort_words}')"
      ],
      "execution_count": 33,
      "outputs": [
        {
          "output_type": "stream",
          "name": "stdout",
          "text": [
            "1つ目の英単語を入力してください >Python\n",
            "2つ目の英単語を入力してください >Ruby\n",
            "3つ目の英単語を入力してください >Java\n",
            "並び替えた英単語 : Java,Python,Ruby\n"
          ]
        }
      ]
    },
    {
      "cell_type": "code",
      "metadata": {
        "id": "IFgVRPTC0aDx"
      },
      "source": [
        ""
      ],
      "execution_count": null,
      "outputs": []
    }
  ]
}