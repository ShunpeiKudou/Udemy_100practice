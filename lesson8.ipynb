{
  "nbformat": 4,
  "nbformat_minor": 0,
  "metadata": {
    "colab": {
      "name": "lesson8.ipynb",
      "provenance": [],
      "collapsed_sections": [
        "P1xaGWG3OpbC",
        "zlFPBasJOvxn",
        "1aB9W93oPW-Z",
        "zPkN6GJHP8wo",
        "UXeemKB4QKWk",
        "I_vPcLDHQcc3",
        "GY6kmku-QuW5",
        "BndKomQqQCjT",
        "3Bond82nRDVl",
        "pDiVIN_lRwMJ",
        "siSbKisWR13D",
        "YUv1z_dKSQuq",
        "qv8YRh3sScBL",
        "raca3JWpTTzf",
        "UseyS47yTTu1",
        "5Gfsi5DpUS_u",
        "ZT6qgzRMUYGw"
      ],
      "toc_visible": true,
      "include_colab_link": true
    },
    "kernelspec": {
      "name": "python3",
      "display_name": "Python 3"
    },
    "language_info": {
      "name": "python"
    }
  },
  "cells": [
    {
      "cell_type": "markdown",
      "metadata": {
        "id": "view-in-github",
        "colab_type": "text"
      },
      "source": [
        "<a href=\"https://colab.research.google.com/github/ShunpeiKudou/Udemy_100practice/blob/main/lesson8.ipynb\" target=\"_parent\"><img src=\"https://colab.research.google.com/assets/colab-badge.svg\" alt=\"Open In Colab\"/></a>"
      ]
    },
    {
      "cell_type": "markdown",
      "metadata": {
        "id": "x71fcJAaOkta"
      },
      "source": [
        "# 辞書型【17問】"
      ]
    },
    {
      "cell_type": "markdown",
      "metadata": {
        "id": "P1xaGWG3OpbC"
      },
      "source": [
        "## 問題64. "
      ]
    },
    {
      "cell_type": "markdown",
      "metadata": {
        "id": "sDT5ndeTsQKd"
      },
      "source": [
        "以下2つの辞書を作成するプログラムを作成してください。\n",
        "\n",
        "```\n",
        "1つ目の作成した辞書 : {'A': 111, 'B': 222, 'C': 333}\n",
        "2つ目の作成した辞書 : {}\n",
        "```"
      ]
    },
    {
      "cell_type": "code",
      "metadata": {
        "id": "RGUEj3sYOsIp",
        "colab": {
          "base_uri": "https://localhost:8080/"
        },
        "outputId": "95ef71fa-013b-4c68-ba64-fe9ddd5baa49"
      },
      "source": [
        "d1 = {'A': 111, 'B': 222, 'C': 333}\n",
        "d2 = {}\n",
        "\n",
        "print(f'1つ目の作成した辞書 : {d1}')\n",
        "print(f'2つ目の作成した辞書 : {d2}')"
      ],
      "execution_count": 1,
      "outputs": [
        {
          "output_type": "stream",
          "name": "stdout",
          "text": [
            "1つ目の作成した辞書 : {'A': 111, 'B': 222, 'C': 333}\n",
            "2つ目の作成した辞書 : {}\n"
          ]
        }
      ]
    },
    {
      "cell_type": "markdown",
      "metadata": {
        "id": "zlFPBasJOvxn"
      },
      "source": [
        "## 問題65. "
      ]
    },
    {
      "cell_type": "markdown",
      "metadata": {
        "id": "GP5eRApusR1R"
      },
      "source": [
        "以下の辞書に対して、新しいKeyとValue{'D': 444}を追加するプログラムを、\n",
        "\n",
        "- メソッドを使う方法\n",
        "- メソッドを使わない方法\n",
        "\n",
        "の2通りで作成してください。\n",
        "\n",
        "※使用する辞書\n",
        "```\n",
        "d = {'A': 111, 'B': 222, 'C': 333}\n",
        "```\n",
        "\n",
        "▼期待する出力\n",
        "```\n",
        "1つ目のパターン : {'A': 111, 'B': 222, 'C': 333, 'D': 444}\n",
        "2つ目のパターン : {'A': 111, 'B': 222, 'C': 333, 'D': 444}\n",
        "```"
      ]
    },
    {
      "cell_type": "code",
      "metadata": {
        "id": "wfW5srxbO5Ww",
        "colab": {
          "base_uri": "https://localhost:8080/"
        },
        "outputId": "b4553f15-3367-4ae2-d6f6-b51f8d0c9f95"
      },
      "source": [
        "d = {'A': 111, 'B': 222, 'C': 333}\n",
        "\n",
        "d['D'] = 444\n",
        "print(f'1つ目のパターン : {d}')"
      ],
      "execution_count": 3,
      "outputs": [
        {
          "output_type": "stream",
          "name": "stdout",
          "text": [
            "1つ目のパターン : {'A': 111, 'B': 222, 'C': 333, 'D': 444}\n"
          ]
        }
      ]
    },
    {
      "cell_type": "code",
      "source": [
        "d = {'A': 111, 'B': 222, 'C': 333}\n",
        "'''\n",
        "d1 = {'D': 444}\n",
        "d.update(d1)\n",
        "'''\n",
        "d.update({'D': 444})\n",
        "print(f'1つ目のパターン : {d}')"
      ],
      "metadata": {
        "colab": {
          "base_uri": "https://localhost:8080/"
        },
        "id": "JmgWjIIk2Keu",
        "outputId": "a399a30a-f829-4bba-93d1-0a257a084916"
      },
      "execution_count": 5,
      "outputs": [
        {
          "output_type": "stream",
          "name": "stdout",
          "text": [
            "1つ目のパターン : {'A': 111, 'B': 222, 'C': 333, 'D': 444}\n"
          ]
        }
      ]
    },
    {
      "cell_type": "markdown",
      "metadata": {
        "id": "1aB9W93oPW-Z"
      },
      "source": [
        "## 問題66. "
      ]
    },
    {
      "cell_type": "markdown",
      "metadata": {
        "id": "if2hLndysTNH"
      },
      "source": [
        "以下3つの辞書を、forループを使って連結するプログラムを作成してください。\n",
        "\n",
        "※使用する辞書 :\n",
        "```\n",
        "d1 = {'A': 111, 'B': 222, 'C': 333}\n",
        "d2 = {'D': 444, 'E': 555}\n",
        "d3 = {'F': 666}\n",
        "```\n",
        "\n",
        "▼期待する出力\n",
        "```\n",
        "連結した辞書 : {'A': 111, 'B': 222, 'C': 333, 'D': 444, 'E': 555, 'F': 666}\n",
        "```"
      ]
    },
    {
      "cell_type": "code",
      "metadata": {
        "id": "3rrSDyf-Pvma",
        "colab": {
          "base_uri": "https://localhost:8080/"
        },
        "outputId": "6247348b-cfe2-47c4-9318-c9eb40cf3a40"
      },
      "source": [
        "d1 = {'A': 111, 'B': 222, 'C': 333}\n",
        "d2 = {'D': 444, 'E': 555}\n",
        "d3 = {'F': 666}\n",
        "\n",
        "for k, name in d2.items():\n",
        "    d1[k] = name\n",
        "for k, name in d3.items():\n",
        "    d1[k] = name\n",
        "\n",
        "print(f'連結した辞書 : {d1}')"
      ],
      "execution_count": 10,
      "outputs": [
        {
          "output_type": "stream",
          "name": "stdout",
          "text": [
            "連結した辞書 : {'A': 111, 'B': 222, 'C': 333, 'D': 444, 'E': 555, 'F': 666}\n"
          ]
        }
      ]
    },
    {
      "cell_type": "code",
      "source": [
        "d1 = {'A': 111, 'B': 222, 'C': 333}\n",
        "d2 = {'D': 444, 'E': 555}\n",
        "d3 = {'F': 666}\n",
        "\n",
        "new_d = {}\n",
        "for d in [d1, d2, d3]:\n",
        "    new_d.update(d)\n",
        "\n",
        "print(f'連結した辞書 : {d}')"
      ],
      "metadata": {
        "colab": {
          "base_uri": "https://localhost:8080/"
        },
        "id": "qM3MQIcf4g9l",
        "outputId": "8e2b7504-ba66-4adb-f509-4a2e4ef4646b"
      },
      "execution_count": 11,
      "outputs": [
        {
          "output_type": "stream",
          "name": "stdout",
          "text": [
            "連結した辞書 : {'F': 666}\n"
          ]
        }
      ]
    },
    {
      "cell_type": "markdown",
      "metadata": {
        "id": "zPkN6GJHP8wo"
      },
      "source": [
        "## 問題67. "
      ]
    },
    {
      "cell_type": "markdown",
      "metadata": {
        "id": "XBo4JETasUpU"
      },
      "source": [
        "以下3つの辞書を、forループを使わずに連結するプログラムを「5行以下」で作成してください。\n",
        "\n",
        "※使用する辞書 :\n",
        "```\n",
        "d1 = {'A': 111, 'B': 222, 'C': 333}\n",
        "d2 = {'D': 444, 'E': 555}\n",
        "d3 = {'F': 666}\n",
        "```\n",
        "\n",
        "▼期待する出力\n",
        "```\n",
        "連結した辞書 : {'A': 111, 'B': 222, 'C': 333, 'D': 444, 'E': 555, 'F': 666}\n",
        "```"
      ]
    },
    {
      "cell_type": "code",
      "metadata": {
        "id": "AKXdYLsyP8yH",
        "colab": {
          "base_uri": "https://localhost:8080/"
        },
        "outputId": "4ed0daca-af64-4b54-b03e-ec545097bf46"
      },
      "source": [
        "d1 = {'A': 111, 'B': 222, 'C': 333}\n",
        "d2 = {'D': 444, 'E': 555}\n",
        "d3 = {'F': 666}\n",
        "\n",
        "new_d = {**d1, **d2, **d3}\n",
        "\n",
        "print(f'連結した辞書 : {new_d}')"
      ],
      "execution_count": 12,
      "outputs": [
        {
          "output_type": "stream",
          "name": "stdout",
          "text": [
            "連結した辞書 : {'A': 111, 'B': 222, 'C': 333, 'D': 444, 'E': 555, 'F': 666}\n"
          ]
        }
      ]
    },
    {
      "cell_type": "markdown",
      "metadata": {
        "id": "UXeemKB4QKWk"
      },
      "source": [
        "## 問題68. "
      ]
    },
    {
      "cell_type": "markdown",
      "metadata": {
        "id": "4NJmzR5fsWWB"
      },
      "source": [
        "以下の辞書で、Keyに'A'が含まれているか確認するプログラムを作成してください。\n",
        "\n",
        "※使用する辞書 :\n",
        "```\n",
        "d = {'A': 111, 'B': 222, 'C': 333}\n",
        "```\n",
        "\n",
        "▼期待する出力\n",
        "```\n",
        "Aは辞書に含まれているか : True\n",
        "```"
      ]
    },
    {
      "cell_type": "code",
      "metadata": {
        "id": "NNegeXHdQKUR",
        "colab": {
          "base_uri": "https://localhost:8080/"
        },
        "outputId": "64305c4d-eafb-401d-ed59-d80a0140d988"
      },
      "source": [
        "d = {'A': 111, 'B': 222, 'C': 333}\n",
        "\n",
        "print(f'Aは辞書に含まれているか : {\"A\" in d}')"
      ],
      "execution_count": 17,
      "outputs": [
        {
          "output_type": "stream",
          "name": "stdout",
          "text": [
            "Aは辞書に含まれているか : True\n"
          ]
        }
      ]
    },
    {
      "cell_type": "markdown",
      "metadata": {
        "id": "I_vPcLDHQcc3"
      },
      "source": [
        "## 問題69. "
      ]
    },
    {
      "cell_type": "markdown",
      "metadata": {
        "id": "LjxVW0zTsX2E"
      },
      "source": [
        "以下の辞書で、Valueに444が含まれているか確認するプログラムを作成してください。\n",
        "\n",
        "※使用する辞書 :\n",
        "```\n",
        "d = {'A': 111, 'B': 222, 'C': 333}\n",
        "```\n",
        "\n",
        "▼期待する出力\n",
        "```\n",
        "444は辞書に含まれているか : False\n",
        "```"
      ]
    },
    {
      "cell_type": "code",
      "metadata": {
        "id": "YI1SpLPTQcal",
        "colab": {
          "base_uri": "https://localhost:8080/"
        },
        "outputId": "b5d7932e-64e2-46ce-d860-6d2454fc89e8"
      },
      "source": [
        "d = {'A': 111, 'B': 222, 'C': 333}\n",
        "result = 444 in d.values()\n",
        "print(f'444は辞書に含まれているか : {result}')"
      ],
      "execution_count": 21,
      "outputs": [
        {
          "output_type": "stream",
          "name": "stdout",
          "text": [
            "444は辞書に含まれているか : False\n"
          ]
        }
      ]
    },
    {
      "cell_type": "markdown",
      "metadata": {
        "id": "GY6kmku-QuW5"
      },
      "source": [
        "## 問題70. "
      ]
    },
    {
      "cell_type": "markdown",
      "metadata": {
        "id": "DTRIkhAosZit"
      },
      "source": [
        "以下2つのリストが、出力結果の辞書になるようなプログラムを「4行以下」で作成してください。\n",
        "\n",
        "※使用するリスト :\n",
        "```\n",
        "keys = ['A', 'B', 'C']\n",
        "values = [111, 222 ,333]\n",
        "```\n",
        "\n",
        "▼期待する出力\n",
        "```\n",
        "作成した辞書 : {'A': 111, 'B': 222, 'C': 333}\n",
        "```\n"
      ]
    },
    {
      "cell_type": "code",
      "metadata": {
        "id": "Mtp6KI3XQuU5",
        "colab": {
          "base_uri": "https://localhost:8080/"
        },
        "outputId": "5a1f2970-7e99-4ad6-c5c9-d2b1d9b2a382"
      },
      "source": [
        "keys = ['A', 'B', 'C']\n",
        "values = [111, 222 ,333]\n",
        "d = dict(zip(keys, values))\n",
        "print(f'作成した辞書 : {d}')"
      ],
      "execution_count": 22,
      "outputs": [
        {
          "output_type": "stream",
          "name": "stdout",
          "text": [
            "作成した辞書 : {'A': 111, 'B': 222, 'C': 333}\n"
          ]
        }
      ]
    },
    {
      "cell_type": "markdown",
      "metadata": {
        "id": "BndKomQqQCjT"
      },
      "source": [
        "## 問題71. "
      ]
    },
    {
      "cell_type": "markdown",
      "metadata": {
        "id": "p011vvkcsa_F"
      },
      "source": [
        "以下の辞書で、Valueが150を超えるものに絞り込んだプログラムを作成してください。\n",
        "\n",
        "※使用する辞書 :\n",
        "```\n",
        "d = {'A': 111, 'B': 222, 'C': 333}\n",
        "```\n",
        "\n",
        "▼期待する出力\n",
        "```\n",
        "絞り込みをかけた辞書 : {'B': 222, 'C': 333}\n",
        "```"
      ]
    },
    {
      "cell_type": "code",
      "metadata": {
        "id": "o-uwVMSeRAIw"
      },
      "source": [
        ""
      ],
      "execution_count": null,
      "outputs": []
    },
    {
      "cell_type": "markdown",
      "metadata": {
        "id": "3Bond82nRDVl"
      },
      "source": [
        "## 問題72. "
      ]
    },
    {
      "cell_type": "markdown",
      "metadata": {
        "id": "IP5Frm6mscbU"
      },
      "source": [
        "リストに含まれている要素に対応するValueを、辞書から取り出し出力するプログラムを作成してください。なお、Keyが存在しないときはエラーではなく`None`を出力するようにしてください。\n",
        "\n",
        "※使用する辞書とリスト\n",
        "```\n",
        "d = {'A': 111, 'B': 222, 'C': 333}\n",
        "l = ['B', 'C', 'D', 'A']\n",
        "```\n",
        "\n",
        "▼期待する出力\n",
        "```\n",
        "Bに対応するValue : 222\n",
        "Cに対応するValue : 333\n",
        "Dに対応するValue : None\n",
        "Aに対応するValue : 111\n",
        "```"
      ]
    },
    {
      "cell_type": "code",
      "metadata": {
        "id": "KnqiEJhDRQ9g"
      },
      "source": [
        ""
      ],
      "execution_count": null,
      "outputs": []
    },
    {
      "cell_type": "markdown",
      "metadata": {
        "id": "pDiVIN_lRwMJ"
      },
      "source": [
        "## 問題73. "
      ]
    },
    {
      "cell_type": "markdown",
      "metadata": {
        "id": "U-cOhkVhseAG"
      },
      "source": [
        "以下の辞書を、Keyでソートするプログラムを作成してください。\n",
        "\n",
        "※使用する辞書 : \n",
        "```\n",
        "d = {'B': 222, 'A': 111, 'D': 444, 'C': 333}\n",
        "```\n",
        "\n",
        "▼期待する出力\n",
        "```\n",
        "Keyでソートした辞書 : {'A': 111, 'B': 222, 'C': 333, 'D': 444}\n",
        "```"
      ]
    },
    {
      "cell_type": "code",
      "metadata": {
        "id": "i6866EqJRVBZ"
      },
      "source": [
        ""
      ],
      "execution_count": null,
      "outputs": []
    },
    {
      "cell_type": "markdown",
      "metadata": {
        "id": "siSbKisWR13D"
      },
      "source": [
        "## 問題74. "
      ]
    },
    {
      "cell_type": "markdown",
      "metadata": {
        "id": "Cisu1HNQsf73"
      },
      "source": [
        "以下の辞書で、Valueでソートするプログラムを作成してください。\n",
        "\n",
        "※使用する辞書 : \n",
        "```\n",
        "d = {'B': 222, 'A': 111, 'D': 333, 'C': 444}\n",
        "```\n",
        "\n",
        "▼期待する出力\n",
        "```\n",
        "Valueでソートした辞書 : {'A': 111, 'B': 222, 'D': 333, 'C': 444}\n",
        "```"
      ]
    },
    {
      "cell_type": "code",
      "metadata": {
        "id": "cdT1zyMxSBuM"
      },
      "source": [
        ""
      ],
      "execution_count": null,
      "outputs": []
    },
    {
      "cell_type": "markdown",
      "metadata": {
        "id": "YUv1z_dKSQuq"
      },
      "source": [
        "## 問題75. "
      ]
    },
    {
      "cell_type": "markdown",
      "metadata": {
        "id": "LuaIHYghshVQ"
      },
      "source": [
        "以下のリスト内辞書から`Chinese`を取得するプログラムを作成してください。（もちろん`print()`はなしです。笑）\n",
        "\n",
        "※使用するリスト :\n",
        "```\n",
        "l = [{'id': 10000, 'feature': {'name': 'Michael', 'height': 180.3, 'weight': 63.7, 'skills': {'IT': ['Python', 'Golang', 'SQL'], 'Others': ['Chinese', 'Math']}}}, \n",
        "{'id': 10001, 'feature': {'name': 'Nancy', 'height': 156.7, 'weight': 39.7, 'skills': {'IT': ['Java', 'SQL', 'JavaScript'], 'Others': ['Accounting']}}}]\n",
        "```\n",
        "\n",
        "▼期待する出力\n",
        "```\n",
        "Chinese\n",
        "```"
      ]
    },
    {
      "cell_type": "code",
      "metadata": {
        "id": "QSvPRvdVSIrX"
      },
      "source": [
        ""
      ],
      "execution_count": null,
      "outputs": []
    },
    {
      "cell_type": "markdown",
      "metadata": {
        "id": "qv8YRh3sScBL"
      },
      "source": [
        "## 問題76. "
      ]
    },
    {
      "cell_type": "markdown",
      "metadata": {
        "id": "FsOy8gLksi1n"
      },
      "source": [
        "以下のリストで、MichaelとNancyに共通しているスキル(SQL)を取得するプログラムを作成してください。(もちろん`print('SQL')`はなしです。笑)\n",
        "\n",
        "※使用するリスト :\n",
        "```\n",
        "l = [{'id': 10000, 'feature': {'name': 'Michael', 'height': 180.3, 'weight': 63.7, 'skills': {'IT': ['Python', 'Golang', 'SQL'], 'Others': ['Chinese', 'Math']}}}, \n",
        "{'id': 10001, 'feature': {'name': 'Nancy', 'height': 156.7, 'weight': 39.7, 'skills': {'IT': ['Java', 'SQL', 'JavaScript'], 'Others': ['Accounting']}}}]\n",
        "```\n",
        "\n",
        "▼期待する出力\n",
        "```\n",
        "共通するITスキル : {'SQL'}\n",
        "```"
      ]
    },
    {
      "cell_type": "code",
      "metadata": {
        "id": "Ms1yyQQCStcn"
      },
      "source": [
        ""
      ],
      "execution_count": null,
      "outputs": []
    },
    {
      "cell_type": "markdown",
      "metadata": {
        "id": "raca3JWpTTzf"
      },
      "source": [
        "## 問題77. "
      ]
    },
    {
      "cell_type": "markdown",
      "metadata": {
        "id": "CjLFR_QJskLZ"
      },
      "source": [
        "以下の辞書に格納されているValueの、最大値を出力するプログラムを作成してください。\n",
        "\n",
        "※使用する辞書 : \n",
        "```\n",
        "d = {'B': 222, 'A': 111, 'D': 444, 'C': 333}\n",
        "```\n",
        "\n",
        "▼期待する出力\n",
        "```\n",
        "辞書に格納されているValueの最大値 : 444\n",
        "```"
      ]
    },
    {
      "cell_type": "code",
      "metadata": {
        "id": "-Ib_on-HTTxN"
      },
      "source": [
        ""
      ],
      "execution_count": null,
      "outputs": []
    },
    {
      "cell_type": "markdown",
      "metadata": {
        "id": "UseyS47yTTu1"
      },
      "source": [
        "## 問題78. "
      ]
    },
    {
      "cell_type": "markdown",
      "metadata": {
        "id": "JMlS6uoJsleu"
      },
      "source": [
        "以下の辞書から、最小のValue(=111)を持つKeyを出力するプログラムを作成してください。\n",
        "\n",
        "※使用する辞書 : \n",
        "```\n",
        "d = {'B': 222, 'A': 111, 'D': 444, 'C': 333}\n",
        "```\n",
        "\n",
        "▼期待する出力\n",
        "```\n",
        "最小のValueを持つKey : A\n",
        "```"
      ]
    },
    {
      "cell_type": "code",
      "metadata": {
        "id": "Lv6x7WGMTAU-"
      },
      "source": [
        ""
      ],
      "execution_count": null,
      "outputs": []
    },
    {
      "cell_type": "markdown",
      "metadata": {
        "id": "5Gfsi5DpUS_u"
      },
      "source": [
        "## 問題79. "
      ]
    },
    {
      "cell_type": "markdown",
      "metadata": {
        "id": "4v92VFtEsmwt"
      },
      "source": [
        "空の辞書だけを判定するプログラムを作成してください。なお、空の辞書でない場合は、判定した変数をそのまま出力してください。\n",
        "\n",
        "※空の辞書の場合\n",
        "```\n",
        "空の辞書です\n",
        "```\n",
        "\n",
        "※からの辞書でない場合\n",
        "```\n",
        "# 空のリストを判定\n",
        "[]\n",
        "\n",
        "# 辞書{'A': 111}を判定\n",
        "{'A': 111}\n",
        "```"
      ]
    },
    {
      "cell_type": "code",
      "metadata": {
        "id": "Fl0_S5G7T9gx"
      },
      "source": [
        ""
      ],
      "execution_count": null,
      "outputs": []
    },
    {
      "cell_type": "markdown",
      "metadata": {
        "id": "ZT6qgzRMUYGw"
      },
      "source": [
        "## 問題80. "
      ]
    },
    {
      "cell_type": "markdown",
      "metadata": {
        "id": "G3Qe9_izsn_g"
      },
      "source": [
        "以下の辞書で、Valueが奇数の要素だけ削除するプログラムを作成してください。\n",
        "\n",
        "※使用する辞書 : \n",
        "```\n",
        "d = {'B': 222, 'A': 111, 'D': 444, 'C': 333}\n",
        "```\n",
        "\n",
        "▼期待する出力\n",
        "```\n",
        "奇数を削除した辞書 : {'B': 222, 'D': 444}\n",
        "```"
      ]
    },
    {
      "cell_type": "code",
      "metadata": {
        "id": "ZKYNeHiUYaVq"
      },
      "source": [
        ""
      ],
      "execution_count": null,
      "outputs": []
    }
  ]
}