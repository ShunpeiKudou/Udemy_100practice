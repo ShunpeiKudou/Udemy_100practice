{
  "nbformat": 4,
  "nbformat_minor": 0,
  "metadata": {
    "colab": {
      "name": "lesson7.ipynb",
      "provenance": [],
      "collapsed_sections": [
        "ARbtz4WcLS_y",
        "wrGNBaAnLdrl",
        "mE-zCk0TMExt",
        "uWwQClBTMEtw",
        "WHbrenIPMctw"
      ],
      "toc_visible": true,
      "include_colab_link": true
    },
    "kernelspec": {
      "name": "python3",
      "display_name": "Python 3"
    },
    "language_info": {
      "name": "python"
    }
  },
  "cells": [
    {
      "cell_type": "markdown",
      "metadata": {
        "id": "view-in-github",
        "colab_type": "text"
      },
      "source": [
        "<a href=\"https://colab.research.google.com/github/ShunpeiKudou/Udemy_100practice/blob/main/lesson7.ipynb\" target=\"_parent\"><img src=\"https://colab.research.google.com/assets/colab-badge.svg\" alt=\"Open In Colab\"/></a>"
      ]
    },
    {
      "cell_type": "markdown",
      "metadata": {
        "id": "lSCS45djLIoZ"
      },
      "source": [
        "# 集合型【5問】"
      ]
    },
    {
      "cell_type": "markdown",
      "metadata": {
        "id": "ARbtz4WcLS_y"
      },
      "source": [
        "## 問題59. "
      ]
    },
    {
      "cell_type": "markdown",
      "metadata": {
        "id": "Qc_GubMaj7sM"
      },
      "source": [
        "以下2つの集合が出力されるように、プログラムを作成してください。\n",
        "\n",
        "```\n",
        "集合1 : {1, 2, 3}\n",
        "集合2: set()\n",
        "```"
      ]
    },
    {
      "cell_type": "code",
      "metadata": {
        "id": "Fy-Cy7gULZiZ",
        "colab": {
          "base_uri": "https://localhost:8080/"
        },
        "outputId": "5e4db5e8-2625-451d-ecd7-e216a5bc3895"
      },
      "source": [
        "set1 = {1, 2, 3}\n",
        "# {} --> 辞書\n",
        "print(type({}))\n",
        "\n",
        "# 空集合を作りたいときは set()\n",
        "set2 = set()\n",
        "print(f'集合1 : {set1}')\n",
        "print(f'集合2 : {set2}')"
      ],
      "execution_count": null,
      "outputs": [
        {
          "output_type": "stream",
          "name": "stdout",
          "text": [
            "<class 'dict'>\n",
            "集合1 : {1, 2, 3}\n",
            "集合2 : set()\n"
          ]
        }
      ]
    },
    {
      "cell_type": "markdown",
      "metadata": {
        "id": "wrGNBaAnLdrl"
      },
      "source": [
        "## 問題60. "
      ]
    },
    {
      "cell_type": "markdown",
      "metadata": {
        "id": "9ePEzsuQj9Tt"
      },
      "source": [
        "以下2つのリストから重複を削除して、すべての要素を出力するプログラムを作成してください。\n",
        "\n",
        "※使用するリスト\n",
        "```\n",
        "l1 = [1, 2, 3, 4, 5]\n",
        "l2 = [7, 6, 5, 4]\n",
        "```\n",
        "\n",
        "▼期待する出力\n",
        "```\n",
        "すべての要素 : {1, 2, 3, 4, 5, 6, 7}\n",
        "```"
      ]
    },
    {
      "cell_type": "code",
      "metadata": {
        "id": "qlgjJFg4LrNc",
        "colab": {
          "base_uri": "https://localhost:8080/"
        },
        "outputId": "c07372b6-c663-44f0-c4fa-5a659b696dd1"
      },
      "source": [
        "l1 = [1, 2, 3, 4, 5]\n",
        "l2 = [7, 6, 5, 4]\n",
        "\n",
        "'''\n",
        "s1 = set(l1)\n",
        "s2 = set(l2)\n",
        "s3 = s1 | s2\n",
        "'''\n",
        "r = set(l1) | set(l2)\n",
        "print(f'すべての要素 : {r}')"
      ],
      "execution_count": null,
      "outputs": [
        {
          "output_type": "stream",
          "name": "stdout",
          "text": [
            "すべての要素 : {1, 2, 3, 4, 5, 6, 7}\n"
          ]
        }
      ]
    },
    {
      "cell_type": "markdown",
      "metadata": {
        "id": "mE-zCk0TMExt"
      },
      "source": [
        "## 問題61. "
      ]
    },
    {
      "cell_type": "markdown",
      "metadata": {
        "id": "mJv6RAjqj-tB"
      },
      "source": [
        "以下2つのリストで、l1のみに格納されている要素を出力するプログラムを作成してください。\n",
        "\n",
        "※使用するリスト :\n",
        "```\n",
        "l1 = [1, 2, 3, 4, 5]\n",
        "l2 = [7, 6, 5, 4]\n",
        "```\n",
        "\n",
        "▼期待する出力\n",
        "```\n",
        "l1のみに格納されている要素 : {1, 2, 3}\n",
        "```"
      ]
    },
    {
      "cell_type": "code",
      "metadata": {
        "id": "f7ZwhwQ1MEvy",
        "colab": {
          "base_uri": "https://localhost:8080/"
        },
        "outputId": "a07ddcfc-afe2-4eab-da24-3fc8985a02e6"
      },
      "source": [
        "l1 = [1, 2, 3, 4, 5]\n",
        "l2 = [7, 6, 5, 4]\n",
        "\n",
        "# r = set(l1) - (set(l1) & set(l2))\n",
        "r = set(l1) - set(l2)\n",
        "print(f'l1のみに格納されている要素 : {r}')"
      ],
      "execution_count": null,
      "outputs": [
        {
          "output_type": "stream",
          "name": "stdout",
          "text": [
            "l1のみに格納されている要素 : {1, 2, 3}\n"
          ]
        }
      ]
    },
    {
      "cell_type": "markdown",
      "metadata": {
        "id": "uWwQClBTMEtw"
      },
      "source": [
        "## 問題62. "
      ]
    },
    {
      "cell_type": "markdown",
      "metadata": {
        "id": "4wbeJBBakAAi"
      },
      "source": [
        "以下2つのリストで、どちらか一方に格納されている要素を出力するプログラムを作成してください。\n",
        "\n",
        "※使用するリスト :\n",
        "```\n",
        "l1 = [1, 2, 3, 4, 5]\n",
        "l2 = [7, 6, 5, 4]\n",
        "```\n",
        "\n",
        "▼期待する出力\n",
        "```\n",
        "どちらか一方に格納されている要素 : {1, 2, 3, 6, 7}\n",
        "```"
      ]
    },
    {
      "cell_type": "code",
      "metadata": {
        "id": "zuO0lLTqLxbO",
        "colab": {
          "base_uri": "https://localhost:8080/"
        },
        "outputId": "c84a9c20-c5df-4afc-e33f-91a8dc038798"
      },
      "source": [
        "l1 = [1, 2, 3, 4, 5]\n",
        "l2 = [7, 6, 5, 4]\n",
        "\n",
        "# r = (set(l1) | set(l2)) - (set(l1) & set(l2))\n",
        "r = set(l1) ^ set(l2)\n",
        "print(f'どちらか一方に格納されている要素 : {r}')"
      ],
      "execution_count": 16,
      "outputs": [
        {
          "output_type": "stream",
          "name": "stdout",
          "text": [
            "どちらか一方に格納されている要素 : {1, 2, 3, 6, 7}\n"
          ]
        }
      ]
    },
    {
      "cell_type": "markdown",
      "metadata": {
        "id": "WHbrenIPMctw"
      },
      "source": [
        "## 問題63. "
      ]
    },
    {
      "cell_type": "markdown",
      "metadata": {
        "id": "IyWbX3wWkBWW"
      },
      "source": [
        "\n",
        "以下2つのリストで、片方のリストを含んでいるか判定するプログラムを作成してください。\n",
        "\n",
        "※使用するリスト :\n",
        "```\n",
        "l1 = [1, 2, 3, 4, 5]\n",
        "l2 = [3, 4, 5]\n",
        "```\n",
        "\n",
        "▼期待する出力\n",
        "```\n",
        "l1はl2に含まれている : False\n",
        "l2はl1に含まれている : True\n",
        "```"
      ]
    },
    {
      "cell_type": "code",
      "metadata": {
        "id": "VcG_DedOMngL",
        "colab": {
          "base_uri": "https://localhost:8080/"
        },
        "outputId": "3133013a-0874-45e7-9e1a-ee015edfb176"
      },
      "source": [
        "l1 = [1, 2, 3, 4, 5]\n",
        "l2 = [3, 4, 5]\n",
        "\n",
        "print(f'l1はl2に含まれている : {l1 > l2}')\n",
        "print(f'l2はl1に含まれている : {l2 > l1}')\n",
        "\n",
        "print(f'l1はl2に含まれている : {set(l1).issubset(set(l2))}')\n",
        "print(f'l2はl1に含まれている : {set(l2).issubset(set(l1))}')"
      ],
      "execution_count": 20,
      "outputs": [
        {
          "output_type": "stream",
          "name": "stdout",
          "text": [
            "l1はl2に含まれている : False\n",
            "l2はl1に含まれている : True\n",
            "l1はl2に含まれている : False\n",
            "l2はl1に含まれている : True\n"
          ]
        }
      ]
    },
    {
      "cell_type": "code",
      "metadata": {
        "id": "fiQ9a7TCMpdd"
      },
      "source": [
        ""
      ],
      "execution_count": null,
      "outputs": []
    }
  ]
}