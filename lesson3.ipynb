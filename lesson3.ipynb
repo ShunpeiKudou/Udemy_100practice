{
  "nbformat": 4,
  "nbformat_minor": 0,
  "metadata": {
    "colab": {
      "name": "lesson3.ipynb",
      "provenance": [],
      "collapsed_sections": [
        "atr97x7aVW8H",
        "f5FP_9LXVZ6A",
        "R47BUrdvVbi-",
        "JSbjbrUvVc5e",
        "9uvFJo1WVeNg"
      ],
      "toc_visible": true,
      "include_colab_link": true
    },
    "kernelspec": {
      "name": "python3",
      "display_name": "Python 3"
    },
    "language_info": {
      "name": "python"
    }
  },
  "cells": [
    {
      "cell_type": "markdown",
      "metadata": {
        "id": "view-in-github",
        "colab_type": "text"
      },
      "source": [
        "<a href=\"https://colab.research.google.com/github/ShunpeiKudou/Udemy_100practice/blob/main/lesson3.ipynb\" target=\"_parent\"><img src=\"https://colab.research.google.com/assets/colab-badge.svg\" alt=\"Open In Colab\"/></a>"
      ]
    },
    {
      "cell_type": "markdown",
      "metadata": {
        "id": "LHv3fZJ_rIwy"
      },
      "source": [
        "# 数値型【5問】"
      ]
    },
    {
      "cell_type": "markdown",
      "metadata": {
        "id": "atr97x7aVW8H"
      },
      "source": [
        "## 問題11."
      ]
    },
    {
      "cell_type": "markdown",
      "metadata": {
        "id": "tHx4m4pMtHpW"
      },
      "source": [
        "以下の出力になるように、体重58kg、身長170cmの人のBMIを計算してください。\n",
        "\n",
        "- ※BMI = 体重kg ÷ (身長m)^2\n",
        "- ※^2は「二乗」を意味します\n",
        "\n",
        "```\n",
        "BMI = 20.06920415224914\n",
        "```"
      ]
    },
    {
      "cell_type": "code",
      "metadata": {
        "id": "7nb63a1LrZbM",
        "colab": {
          "base_uri": "https://localhost:8080/"
        },
        "outputId": "b23b6ed1-09c5-4ca0-8036-34b303cf94e2"
      },
      "source": [
        "x = 58\n",
        "y = 170 / 100\n",
        "bmi = x / (y ** 2)\n",
        "print(f'BMI = {bmi}')"
      ],
      "execution_count": null,
      "outputs": [
        {
          "output_type": "stream",
          "name": "stdout",
          "text": [
            "BMI = 20.06920415224914\n"
          ]
        }
      ]
    },
    {
      "cell_type": "markdown",
      "metadata": {
        "id": "f5FP_9LXVZ6A"
      },
      "source": [
        "## 問題12. "
      ]
    },
    {
      "cell_type": "markdown",
      "metadata": {
        "id": "-n6M-IE5tV1J"
      },
      "source": [
        "以下のように体重(kg)と身長(cm)を自分で入力して、BMIを計算できるようなプログラムを作成してください。\n",
        "\n",
        "```\n",
        "身長を入力してください(cm) > 178.3\n",
        "体重を入力してください(kg) > 58.4\n",
        "BMI = 18.370042487014356\n",
        "```"
      ]
    },
    {
      "cell_type": "code",
      "metadata": {
        "id": "lncSoJTstXRF",
        "colab": {
          "base_uri": "https://localhost:8080/"
        },
        "outputId": "6b03c022-e5a2-4df7-906f-0c71e7bb48e0"
      },
      "source": [
        "input_h = float(input('身長を入力してください(cm) >'))\n",
        "input_w = float(input('体重を入力してください(kg) >'))\n",
        "h_meter = input_h / 100\n",
        "bmi = input_w / (h_meter ** 2)\n",
        "print(f'BMI = {bmi}')"
      ],
      "execution_count": null,
      "outputs": [
        {
          "output_type": "stream",
          "name": "stdout",
          "text": [
            "身長を入力してください(cm) >183.2\n",
            "体重を入力してください(kg) >78.0\n",
            "BMI = 23.240403501077402\n"
          ]
        }
      ]
    },
    {
      "cell_type": "code",
      "source": [
        "h = float(input('身長を入力してください(cm) >')) / 100\n",
        "w = float(input('体重を入力してください(kg) >'))\n",
        "bmi = w / (h ** 2)\n",
        "print(f'BMI = {bmi}')"
      ],
      "metadata": {
        "colab": {
          "base_uri": "https://localhost:8080/"
        },
        "id": "CNq5QWbEBTuf",
        "outputId": "92657cdb-1807-4d7d-a3fa-cf29b9a7487b"
      },
      "execution_count": null,
      "outputs": [
        {
          "output_type": "stream",
          "name": "stdout",
          "text": [
            "身長を入力してください(cm) >180\n",
            "体重を入力してください(kg) >71\n",
            "BMI = 21.91358024691358\n"
          ]
        }
      ]
    },
    {
      "cell_type": "markdown",
      "metadata": {
        "id": "R47BUrdvVbi-"
      },
      "source": [
        "## 問題13. "
      ]
    },
    {
      "cell_type": "markdown",
      "metadata": {
        "id": "obTT-wt7t6xd"
      },
      "source": [
        "以下のように時速(km/h)を入力したら、秒速(m/s)が出力されるプログラムを作成してください。\n",
        "\n",
        "```\n",
        "時速(km/h)を入力してください > 72\n",
        "秒速 = 20.0 m/s\n",
        "```"
      ]
    },
    {
      "cell_type": "code",
      "metadata": {
        "id": "10Pa7u2Xt6vE",
        "colab": {
          "base_uri": "https://localhost:8080/"
        },
        "outputId": "7bf233b5-b541-4d6d-d1b1-8e4f0c2207e7"
      },
      "source": [
        "input_speed_h = float(input('時速(km/h)を入力してください >'))\n",
        "speed_second = input_speed_h * 1000 / 3600 # 3600は60**2とするのがベター\n",
        "print(f'秒速 = {speed_second} m/s')"
      ],
      "execution_count": null,
      "outputs": [
        {
          "output_type": "stream",
          "name": "stdout",
          "text": [
            "時速(km/h)を入力してください >72\n",
            "秒速 = 20.0 m/s\n"
          ]
        }
      ]
    },
    {
      "cell_type": "markdown",
      "metadata": {
        "id": "JSbjbrUvVc5e"
      },
      "source": [
        "## 問題14. "
      ]
    },
    {
      "cell_type": "markdown",
      "metadata": {
        "id": "RA4Dq4s0t6sl"
      },
      "source": [
        "1以上の整数aを入力したら、a + aaaを計算するプログラムを作成してください。\n",
        "\n",
        "※例 : a = 2の場合：2 + 222 = 224\n",
        "\n",
        "```\n",
        "整数を入力してください > 2\n",
        "計算結果 : 224\n",
        "```"
      ]
    },
    {
      "cell_type": "code",
      "metadata": {
        "id": "oCOwuEnftwWc",
        "colab": {
          "base_uri": "https://localhost:8080/"
        },
        "outputId": "a390e53e-fb95-4abf-8396-244d80bb604f"
      },
      "source": [
        "a = int(input('整数を入力してください >'))\n",
        "result = a + (100 * a + 10 * a + a)\n",
        "print(f'計算結果 : {result}')"
      ],
      "execution_count": null,
      "outputs": [
        {
          "output_type": "stream",
          "name": "stdout",
          "text": [
            "整数を入力してください >2\n",
            "計算結果 : 224\n"
          ]
        }
      ]
    },
    {
      "cell_type": "code",
      "source": [
        "a = input('整数を入力してください >')\n",
        "x = int(a)\n",
        "y = int(a*3)\n",
        "\n",
        "print(f'計算結果 : {x + y}')"
      ],
      "metadata": {
        "colab": {
          "base_uri": "https://localhost:8080/"
        },
        "id": "MxkGrcX8CGTB",
        "outputId": "c6f805a4-878d-45eb-f14c-6267ecd3df35"
      },
      "execution_count": null,
      "outputs": [
        {
          "output_type": "stream",
          "name": "stdout",
          "text": [
            "整数を入力してください >2\n",
            "計算結果 : 224\n"
          ]
        }
      ]
    },
    {
      "cell_type": "markdown",
      "metadata": {
        "id": "9uvFJo1WVeNg"
      },
      "source": [
        "## 問題15. "
      ]
    },
    {
      "cell_type": "markdown",
      "metadata": {
        "id": "q1jLRnSvugsP"
      },
      "source": [
        "整数aと整数bを入力したら、a-bを計算するプログラムを作成してください。ただし、計算結果がマイナスの場合はプラスに変換しましょう。\n",
        "\n",
        "※組み込み関数を使わずに解いてみてください。\n",
        "\n",
        "```\n",
        "1つ目の整数を入力してください > 2\n",
        "2つ目の整数を入力してください > 4\n",
        "計算結果 : 2\n",
        "```"
      ]
    },
    {
      "cell_type": "code",
      "metadata": {
        "id": "bvelOZsnugqM",
        "colab": {
          "base_uri": "https://localhost:8080/"
        },
        "outputId": "805dcffa-ab38-4fb5-fe79-98a62045c83f"
      },
      "source": [
        "a = int(input('1つ目の整数を入力してください >'))\n",
        "b = int(input('2つ目の整数を入力してください >'))\n",
        "\n",
        "if a - b < 0:\n",
        "    result = b - a\n",
        "else:\n",
        "    result = a - b\n",
        "\n",
        "print(f'計算結果 : {result}')"
      ],
      "execution_count": null,
      "outputs": [
        {
          "output_type": "stream",
          "name": "stdout",
          "text": [
            "1つ目の整数を入力してください >2\n",
            "2つ目の整数を入力してください >4\n",
            "計算結果 : 2\n"
          ]
        }
      ]
    },
    {
      "cell_type": "code",
      "metadata": {
        "id": "nHAhAoAHuQAt",
        "colab": {
          "base_uri": "https://localhost:8080/"
        },
        "outputId": "73325236-5740-4d36-d860-8b59cf0f99dd"
      },
      "source": [
        "a = int(input('1つ目の整数を入力してください >'))\n",
        "b = int(input('2つ目の整数を入力してください >'))\n",
        "\n",
        "r = a - b\n",
        "if a - b < 0:\n",
        "    r = -r\n",
        "\n",
        "print(f'計算結果 : {r}')"
      ],
      "execution_count": null,
      "outputs": [
        {
          "output_type": "stream",
          "name": "stdout",
          "text": [
            "1つ目の整数を入力してください >2\n",
            "2つ目の整数を入力してください >5\n",
            "計算結果 : 3\n"
          ]
        }
      ]
    }
  ]
}