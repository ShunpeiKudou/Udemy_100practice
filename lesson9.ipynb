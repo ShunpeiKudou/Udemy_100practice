{
  "nbformat": 4,
  "nbformat_minor": 0,
  "metadata": {
    "colab": {
      "name": "lesson9.ipynb",
      "provenance": [],
      "collapsed_sections": [
        "j_QwnD3TZvVk",
        "mbfDNP9lZ6pj",
        "gXvUdtNYaQe7",
        "dvNG22WEa7ZF",
        "kDjZoPKrbBMe"
      ],
      "toc_visible": true,
      "include_colab_link": true
    },
    "kernelspec": {
      "name": "python3",
      "display_name": "Python 3"
    },
    "language_info": {
      "name": "python"
    }
  },
  "cells": [
    {
      "cell_type": "markdown",
      "metadata": {
        "id": "view-in-github",
        "colab_type": "text"
      },
      "source": [
        "<a href=\"https://colab.research.google.com/github/ShunpeiKudou/Udemy_100practice/blob/main/lesson9.ipynb\" target=\"_parent\"><img src=\"https://colab.research.google.com/assets/colab-badge.svg\" alt=\"Open In Colab\"/></a>"
      ]
    },
    {
      "cell_type": "markdown",
      "metadata": {
        "id": "pHMvLATdZt-2"
      },
      "source": [
        "# bool型【5問】"
      ]
    },
    {
      "cell_type": "markdown",
      "metadata": {
        "id": "j_QwnD3TZvVk"
      },
      "source": [
        "## 問題81. "
      ]
    },
    {
      "cell_type": "markdown",
      "metadata": {
        "id": "gMMN7Nl4ZHA0"
      },
      "source": [
        "以下のリストで、Falseをカウントするプログラムを作成してください。\n",
        "\n",
        "※使用するリスト : \n",
        "```\n",
        "l = [False, True, False, False, True]\n",
        "```\n",
        "\n",
        "▼期待する出力\n",
        "```\n",
        "Falseの数 : 3\n",
        "```"
      ]
    },
    {
      "cell_type": "code",
      "metadata": {
        "id": "b_LtuDK-Zz1W",
        "colab": {
          "base_uri": "https://localhost:8080/"
        },
        "outputId": "617a8e58-803e-42c6-905d-1f44e3bde2f0"
      },
      "source": [
        "l = [False, True, False, False, True]\n",
        "\n",
        "c = 0\n",
        "for b in l:\n",
        "    if b == False:\n",
        "        c += 1\n",
        "\n",
        "print(f'Falseの数 : {c}')"
      ],
      "execution_count": 3,
      "outputs": [
        {
          "output_type": "stream",
          "name": "stdout",
          "text": [
            "Falseの数 : 3\n"
          ]
        }
      ]
    },
    {
      "cell_type": "code",
      "source": [
        "# 模範解答\n",
        "# True --> 1\n",
        "# False --> 0\n",
        "\n",
        "c = len(l) - sum(l)\n",
        "print(f'Falseの数 : {c}')"
      ],
      "metadata": {
        "colab": {
          "base_uri": "https://localhost:8080/"
        },
        "id": "wgyZ_L5_A2Mp",
        "outputId": "40cd6d61-c5fe-408a-b9f5-adad09886b3c"
      },
      "execution_count": 5,
      "outputs": [
        {
          "output_type": "stream",
          "name": "stdout",
          "text": [
            "Falseの数 : 3\n"
          ]
        }
      ]
    },
    {
      "cell_type": "markdown",
      "metadata": {
        "id": "mbfDNP9lZ6pj"
      },
      "source": [
        "## 問題82. "
      ]
    },
    {
      "cell_type": "markdown",
      "metadata": {
        "id": "6R5Q4J7uZIOi"
      },
      "source": [
        "以下のリストで、Trueを1、Falseを0に変換するプログラムを作成してください。\n",
        "\n",
        "※使用するリスト : \n",
        "```\n",
        "l = [False, True, False, False, True]\n",
        "```\n",
        "\n",
        "▼期待する出力\n",
        "```\n",
        "作成したリスト : [0, 1, 0, 0, 1]\n",
        "```"
      ]
    },
    {
      "cell_type": "code",
      "metadata": {
        "id": "TveCbmdWaAcS",
        "colab": {
          "base_uri": "https://localhost:8080/"
        },
        "outputId": "66505ad8-14fa-4895-e175-f22ae24dacce"
      },
      "source": [
        "l = [False, True, False, False, True]\n",
        "\n",
        "new_l = []\n",
        "for b in l:\n",
        "    if b == False:\n",
        "        new_l.append(0)\n",
        "    elif b == True:\n",
        "        new_l.append(1)\n",
        "\n",
        "print(f'作成したリスト : {new_l}')"
      ],
      "execution_count": 7,
      "outputs": [
        {
          "output_type": "stream",
          "name": "stdout",
          "text": [
            "作成したリスト : [0, 1, 0, 0, 1]\n"
          ]
        }
      ]
    },
    {
      "cell_type": "code",
      "source": [
        "# 模範解答\n",
        "l = [False, True, False, False, True]\n",
        "\n",
        "new_l = [int(b) for b in l]\n",
        "print(f'作成したリスト : {new_l}')"
      ],
      "metadata": {
        "colab": {
          "base_uri": "https://localhost:8080/"
        },
        "id": "xGxNBwEHBt4_",
        "outputId": "3410cf95-14e8-4b2b-f5d3-b02580c73cda"
      },
      "execution_count": 8,
      "outputs": [
        {
          "output_type": "stream",
          "name": "stdout",
          "text": [
            "作成したリスト : [0, 1, 0, 0, 1]\n"
          ]
        }
      ]
    },
    {
      "cell_type": "markdown",
      "metadata": {
        "id": "gXvUdtNYaQe7"
      },
      "source": [
        "## 問題83. "
      ]
    },
    {
      "cell_type": "markdown",
      "metadata": {
        "id": "N6RmYS7IZJmw"
      },
      "source": [
        "3でも7でもない数だったら、その数字を出力するプログラム：\n",
        "\n",
        "```\n",
        "a = 4\n",
        "if a != 3 and a != 7:\n",
        "    print(f'{a}は3でも7でもありません')\n",
        "```\n",
        "\n",
        "上記の条件判定で、andではなくorを使う形に書き換えてください。(※参考 : これをド・モルガンの法則と言います。)\n",
        "\n",
        "<br>\n",
        "\n",
        "▼期待する出力\n",
        "```\n",
        "4は3でも7でもありません\n",
        "```"
      ]
    },
    {
      "cell_type": "code",
      "metadata": {
        "id": "rrABhfiHaQcw",
        "colab": {
          "base_uri": "https://localhost:8080/"
        },
        "outputId": "290ecb69-90d6-422a-b329-566d07d415d4"
      },
      "source": [
        "a = 4\n",
        "'''\n",
        "if a != 3 and a != 7:\n",
        "    print(f'{a}は3でも7でもありません')\n",
        "'''\n",
        "\n",
        "if not (a == 3 or a == 7):\n",
        "    print(f'{a}は3でも7でもありません')"
      ],
      "execution_count": 14,
      "outputs": [
        {
          "output_type": "stream",
          "name": "stdout",
          "text": [
            "4は3でも7でもありません\n"
          ]
        }
      ]
    },
    {
      "cell_type": "markdown",
      "metadata": {
        "id": "zxsFROw_aDos"
      },
      "source": [
        "ド・モルガンの法則を使うことで、コードが見やすくなります。"
      ]
    },
    {
      "cell_type": "markdown",
      "metadata": {
        "id": "dvNG22WEa7ZF"
      },
      "source": [
        "## 問題84. "
      ]
    },
    {
      "cell_type": "markdown",
      "metadata": {
        "id": "3-V4azzlZK_Y"
      },
      "source": [
        "以下のリストで、Trueに該当する要素をカウントするプログラムを作成してください。\n",
        "\n",
        "※使用するリスト : \n",
        "```\n",
        "l = [1, 0, [], (2, 3), 'AA', '', False, ''*3]\n",
        "```\n",
        "\n",
        "▼期待する出力\n",
        "```\n",
        "Trueの数 : 3\n",
        "```"
      ]
    },
    {
      "cell_type": "code",
      "metadata": {
        "id": "VWADoqV8faUM",
        "colab": {
          "base_uri": "https://localhost:8080/"
        },
        "outputId": "1576bbf9-1bd5-4347-eebf-bbf91d6c790f"
      },
      "source": [
        "l = [1, 0, [], (2, 3), 'AA', '', False, ''*3]\n",
        "\n",
        "c = 0\n",
        "for b in l:\n",
        "    if bool(b) == True:\n",
        "        c += 1\n",
        "\n",
        "print(f'Trueの数 : {c}')"
      ],
      "execution_count": 15,
      "outputs": [
        {
          "output_type": "stream",
          "name": "stdout",
          "text": [
            "Trueの数 : 3\n"
          ]
        }
      ]
    },
    {
      "cell_type": "code",
      "source": [
        "# 模範解答\n",
        "\n",
        "l = [1, 0, [], (2, 3), 'AA', '', False, ''*3]\n",
        "\n",
        "is_true_list = [bool(v) for v in l]\n",
        "print(f'Trueの数 : {sum(is_true_list)}')"
      ],
      "metadata": {
        "colab": {
          "base_uri": "https://localhost:8080/"
        },
        "id": "j7rQ5AwrDeiw",
        "outputId": "f45a828e-e7a3-48ce-f156-9403efa48bfd"
      },
      "execution_count": 16,
      "outputs": [
        {
          "output_type": "stream",
          "name": "stdout",
          "text": [
            "Trueの数 : 3\n"
          ]
        }
      ]
    },
    {
      "cell_type": "markdown",
      "metadata": {
        "id": "kDjZoPKrbBMe"
      },
      "source": [
        "## 問題85. "
      ]
    },
    {
      "cell_type": "markdown",
      "metadata": {
        "id": "0_1p2743ZMmq"
      },
      "source": [
        "以下の出力になるようなプログラムを、変数`x`を使って「3行以下」で作成してください。\n",
        "\n",
        "\n",
        "```\n",
        "# x = Trueの場合\n",
        "判定結果 : 1\n",
        "\n",
        "# x = Falseの場合\n",
        "判定結果 : 100\n",
        "```"
      ]
    },
    {
      "cell_type": "code",
      "metadata": {
        "id": "Xf3iUXbfblpw",
        "colab": {
          "base_uri": "https://localhost:8080/"
        },
        "outputId": "42848c53-80d7-4a40-cab1-82ac4e7666b5"
      },
      "source": [
        "# わからん\n",
        "x = True\n",
        "r = 1 if x else 100 # 三項演算子らしい\n",
        "print(f'判定結果 : {r}')"
      ],
      "execution_count": 17,
      "outputs": [
        {
          "output_type": "stream",
          "name": "stdout",
          "text": [
            "判定結果 : 1\n"
          ]
        }
      ]
    },
    {
      "cell_type": "code",
      "metadata": {
        "id": "95fT7579bpus"
      },
      "source": [
        ""
      ],
      "execution_count": null,
      "outputs": []
    }
  ]
}