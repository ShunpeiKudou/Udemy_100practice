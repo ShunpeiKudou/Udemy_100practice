{
  "nbformat": 4,
  "nbformat_minor": 0,
  "metadata": {
    "colab": {
      "name": "lesson10.ipynb",
      "provenance": [],
      "collapsed_sections": [
        "lqBRnP21cT9U",
        "sw2VIrwBccqh"
      ],
      "toc_visible": true,
      "include_colab_link": true
    },
    "kernelspec": {
      "name": "python3",
      "display_name": "Python 3"
    },
    "language_info": {
      "name": "python"
    }
  },
  "cells": [
    {
      "cell_type": "markdown",
      "metadata": {
        "id": "view-in-github",
        "colab_type": "text"
      },
      "source": [
        "<a href=\"https://colab.research.google.com/github/ShunpeiKudou/Udemy_100practice/blob/main/lesson10.ipynb\" target=\"_parent\"><img src=\"https://colab.research.google.com/assets/colab-badge.svg\" alt=\"Open In Colab\"/></a>"
      ]
    },
    {
      "cell_type": "markdown",
      "metadata": {
        "id": "zwz4XvxpcSsg"
      },
      "source": [
        "# None【2問】"
      ]
    },
    {
      "cell_type": "markdown",
      "metadata": {
        "id": "lqBRnP21cT9U"
      },
      "source": [
        "## 問題86. "
      ]
    },
    {
      "cell_type": "markdown",
      "metadata": {
        "id": "DpYFfQ-mgs53"
      },
      "source": [
        "以下のリストに対して、期待する出力になるようなプログラムを作成してください。\n",
        "\n",
        "※使用するリスト : \n",
        "```\n",
        "l = [1, 2, None, 3]\n",
        "```\n",
        "\n",
        "▼期待する出力\n",
        "```\n",
        "1\n",
        "2\n",
        "10000\n",
        "3\n",
        "```\n",
        "\n"
      ]
    },
    {
      "cell_type": "code",
      "metadata": {
        "id": "2tv_iFkJcXyr",
        "colab": {
          "base_uri": "https://localhost:8080/"
        },
        "outputId": "d41bc0ac-60fb-4ba6-b424-c5546ad9b973"
      },
      "source": [
        "l = [1, 2, None, 3]\n",
        "\n",
        "for i in l:\n",
        "    if i == None:\n",
        "        print(10000)\n",
        "    else:\n",
        "        print(i)"
      ],
      "execution_count": 1,
      "outputs": [
        {
          "output_type": "stream",
          "name": "stdout",
          "text": [
            "1\n",
            "2\n",
            "10000\n",
            "3\n"
          ]
        }
      ]
    },
    {
      "cell_type": "code",
      "source": [
        "# 模範解答\n",
        "l = [1, 2, None, 3]\n",
        "\n",
        "for v in l:\n",
        "    if i is None:\n",
        "        v = 10000\n",
        "    print(v)"
      ],
      "metadata": {
        "colab": {
          "base_uri": "https://localhost:8080/"
        },
        "id": "nbLxIhsxV2Yi",
        "outputId": "13b11d0c-a51e-48c7-b52a-267b563fc709"
      },
      "execution_count": 2,
      "outputs": [
        {
          "output_type": "stream",
          "name": "stdout",
          "text": [
            "1\n",
            "2\n",
            "None\n",
            "3\n"
          ]
        }
      ]
    },
    {
      "cell_type": "markdown",
      "metadata": {
        "id": "sw2VIrwBccqh"
      },
      "source": [
        "## 問題87. "
      ]
    },
    {
      "cell_type": "code",
      "source": [
        ""
      ],
      "metadata": {
        "id": "nnIXCVSWVT8i"
      },
      "execution_count": null,
      "outputs": []
    },
    {
      "cell_type": "markdown",
      "metadata": {
        "id": "XnLImTN6guMy"
      },
      "source": [
        "以下のリストで、bool値のTrueとNoneをカウントするプログラムを作成してください。\n",
        "\n",
        "※使用するリスト : \n",
        "```\n",
        "l = [1, 2, None, False, '3', '4', None, True]\n",
        "```\n",
        "\n",
        "▼期待する出力\n",
        "```\n",
        "TrueとNoneの数 : 3\n",
        "```\n"
      ]
    },
    {
      "cell_type": "code",
      "metadata": {
        "id": "kEemhiJdcgrp",
        "colab": {
          "base_uri": "https://localhost:8080/"
        },
        "outputId": "509e6c81-7ca9-46bf-d217-acd0050b2c55"
      },
      "source": [
        "l = [1, 2, None, False, '3', '4', None, True]\n",
        "\n",
        "c = 0\n",
        "# なぜかできなかった\n",
        "\n",
        "for v in l:\n",
        "    if v is None:\n",
        "        c += 1\n",
        "    elif v is True:\n",
        "        c += 1\n",
        "print(c)\n",
        "\n",
        "is_true_or_none = [v for v in l if v is True or v is None]\n",
        "\n",
        "print(f'TrueとNoneの数 : {len(is_true_or_none)}')"
      ],
      "execution_count": 9,
      "outputs": [
        {
          "output_type": "stream",
          "name": "stdout",
          "text": [
            "3\n",
            "TrueとNoneの数 : 3\n"
          ]
        }
      ]
    },
    {
      "cell_type": "code",
      "source": [
        ""
      ],
      "metadata": {
        "id": "pzSiYhYBXMt5"
      },
      "execution_count": null,
      "outputs": []
    }
  ]
}