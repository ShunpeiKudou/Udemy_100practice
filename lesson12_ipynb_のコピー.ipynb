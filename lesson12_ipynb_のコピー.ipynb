{
  "nbformat": 4,
  "nbformat_minor": 0,
  "metadata": {
    "colab": {
      "name": "lesson12.ipynb のコピー",
      "provenance": [],
      "collapsed_sections": [
        "FEZ20_YlmsTe",
        "MPWtyovDnJ4F",
        "V-qqUIWWnp4P",
        "2jfA_MGhoA8i",
        "poBo7NDmoZVg",
        "ZAcJ3YFUopjZ"
      ],
      "include_colab_link": true
    },
    "kernelspec": {
      "name": "python3",
      "display_name": "Python 3"
    },
    "language_info": {
      "name": "python"
    }
  },
  "cells": [
    {
      "cell_type": "markdown",
      "metadata": {
        "id": "view-in-github",
        "colab_type": "text"
      },
      "source": [
        "<a href=\"https://colab.research.google.com/github/ShunpeiKudou/Udemy_100practice/blob/main/lesson12_ipynb_%E3%81%AE%E3%82%B3%E3%83%94%E3%83%BC.ipynb\" target=\"_parent\"><img src=\"https://colab.research.google.com/assets/colab-badge.svg\" alt=\"Open In Colab\"/></a>"
      ]
    },
    {
      "cell_type": "markdown",
      "metadata": {
        "id": "32b_gQZbmdaI"
      },
      "source": [
        "# §12. よく使う！データ型の対処方法【6問】\n",
        "\n",
        "最後に、よく登場するPython文法を紹介していきます。\n",
        "\n",
        "「ジャンケンで最後じゃないのかよ…」と思われるかもしれないですが、残り6問なので、ぜひお付き合いください。"
      ]
    },
    {
      "cell_type": "markdown",
      "metadata": {
        "id": "FEZ20_YlmsTe"
      },
      "source": [
        "## 問題95. "
      ]
    },
    {
      "cell_type": "markdown",
      "metadata": {
        "id": "aD-uXL_MfgEf"
      },
      "source": [
        "以下の文字列から、”t”が含まれている単語を削除するプログラムを作成してください。\n",
        "\n",
        "※使用する文字列 : \n",
        "```\n",
        "s = 'This is the Python exercise.'\n",
        "```\n",
        "\n",
        "▼期待する出力\n",
        "```\n",
        "削除後の文字列 : This is exercise.\n",
        "```"
      ]
    },
    {
      "cell_type": "markdown",
      "metadata": {
        "id": "paqgfkZliei9"
      },
      "source": [
        "リストから文字列 : ' '.join(l)\n",
        "\n",
        "文字列からリスト : s.split()"
      ]
    },
    {
      "cell_type": "code",
      "metadata": {
        "id": "yAMAcUgYmwzb",
        "colab": {
          "base_uri": "https://localhost:8080/"
        },
        "outputId": "e3141b30-8116-49a2-86ea-359453852ffa"
      },
      "source": [
        "s = 'This is the Python exercise.'\n",
        "list_s = s.split()\n",
        "\n",
        "new_l = []\n",
        "for i in list_s:\n",
        "    if 't' in i:\n",
        "        continue\n",
        "    else:\n",
        "        new_l.append(i)\n",
        "\n",
        "s = ' '.join(new_l)\n",
        "print(f'削除後の文字列 : {s}')"
      ],
      "execution_count": null,
      "outputs": [
        {
          "output_type": "stream",
          "name": "stdout",
          "text": [
            "削除後の文字列 : This is exercise.\n"
          ]
        }
      ]
    },
    {
      "cell_type": "code",
      "source": [
        "# 模範解答\n",
        "s = 'This is the Python exercise.'\n",
        "l = [v for v in s.split() if 't' not in v]\n",
        "\n",
        "new_s = ' '.join(l)\n",
        "print(f'削除後の文字列 : {new_s}')"
      ],
      "metadata": {
        "colab": {
          "base_uri": "https://localhost:8080/"
        },
        "id": "rBrkw4_PByrm",
        "outputId": "d47cfd7b-71f6-4c0d-bde5-bca6308d788a"
      },
      "execution_count": null,
      "outputs": [
        {
          "output_type": "stream",
          "name": "stdout",
          "text": [
            "削除後の文字列 : This is exercise.\n"
          ]
        }
      ]
    },
    {
      "cell_type": "markdown",
      "metadata": {
        "id": "MPWtyovDnJ4F"
      },
      "source": [
        "## 問題96. "
      ]
    },
    {
      "cell_type": "markdown",
      "metadata": {
        "id": "VcCz7smgfhnP"
      },
      "source": [
        "以下の文字列を、辞書に変換するプログラムを作成してください。(※ヒント : 標準ライブラリを使います)\n",
        "\n",
        "※使用する文字列 : \n",
        "```\n",
        "s = '{\"A\": 111, \"B\": 222, \"C\": 333}'\n",
        "```\n",
        "\n",
        "▼期待する出力\n",
        "```\n",
        "変換した辞書 : {'A': 111, 'B': 222, 'C': 333}\n",
        "型: <class 'dict'>\n",
        "```"
      ]
    },
    {
      "cell_type": "code",
      "metadata": {
        "id": "wo7r9XtJm5LG",
        "colab": {
          "base_uri": "https://localhost:8080/"
        },
        "outputId": "adc4a162-c52a-477f-9909-62a98c08a53b"
      },
      "source": [
        "# わからん\n",
        "import json\n",
        "\n",
        "s = '{\"A\": 111, \"B\": 222, \"C\": 333}'\n",
        "d = json.loads(s)\n",
        "\n",
        "print(f'変換した辞書 : {d}')\n",
        "print(f'型 : {type(d)}')"
      ],
      "execution_count": null,
      "outputs": [
        {
          "output_type": "stream",
          "name": "stdout",
          "text": [
            "変換した辞書 : {'A': 111, 'B': 222, 'C': 333}\n",
            "型 : <class 'dict'>\n"
          ]
        }
      ]
    },
    {
      "cell_type": "markdown",
      "metadata": {
        "id": "V-qqUIWWnp4P"
      },
      "source": [
        "## 問題97. "
      ]
    },
    {
      "cell_type": "markdown",
      "metadata": {
        "id": "TWG61sxIfjAI"
      },
      "source": [
        "入力した文字列が数字を表すか判定するプログラムを作成してください。\n",
        "\n",
        "```\n",
        "# s = '123'の場合\n",
        "123は数字です\n",
        "\n",
        "# s = '123a'の場合\n",
        "123aは数字ではありません\n",
        "```"
      ]
    },
    {
      "cell_type": "code",
      "metadata": {
        "id": "nfA8Vs39np19",
        "colab": {
          "base_uri": "https://localhost:8080/"
        },
        "outputId": "c8ac0e0a-6309-4b70-8ca8-5605e43051d4"
      },
      "source": [
        "s = '123'\n",
        "\n",
        "# 文字列なのでisinstanceは使えない\n",
        "# if isinstance(s, int):\n",
        "if s.isdigit():\n",
        "    print(f'{s}は数字です')\n",
        "else:\n",
        "    print(f'{s}は数字ではありません')"
      ],
      "execution_count": null,
      "outputs": [
        {
          "output_type": "stream",
          "name": "stdout",
          "text": [
            "123は数字です\n"
          ]
        }
      ]
    },
    {
      "cell_type": "markdown",
      "metadata": {
        "id": "2jfA_MGhoA8i"
      },
      "source": [
        "## 問題98. "
      ]
    },
    {
      "cell_type": "markdown",
      "metadata": {
        "id": "_H943CcWfknB"
      },
      "source": [
        "以下の文字列で、カンマ区切りにしたリストを作成してください。\n",
        "\n",
        "※使用する文字列 :\n",
        "```\n",
        "s = 'Every day when I go home, I study programming.'\n",
        "```\n",
        "\n",
        "▼期待する出力\n",
        "```\n",
        "分割したリスト : ['Every day when I go home', 'I study programming.']\n",
        "```"
      ]
    },
    {
      "cell_type": "code",
      "metadata": {
        "id": "Bkm2nbQBnelH",
        "colab": {
          "base_uri": "https://localhost:8080/"
        },
        "outputId": "de1499d7-086b-42c2-ad2e-221b49358465"
      },
      "source": [
        "s = 'Every day when I go home, I study programming.'\n",
        "\n",
        "l = [x.strip() for x in s.split(',')]\n",
        "print(f'分割したリスト : {l}')"
      ],
      "execution_count": null,
      "outputs": [
        {
          "output_type": "stream",
          "name": "stdout",
          "text": [
            "分割したリスト : ['Every day when I go home', 'I study programming.']\n"
          ]
        }
      ]
    },
    {
      "cell_type": "markdown",
      "metadata": {
        "id": "poBo7NDmoZVg"
      },
      "source": [
        "## 問題99. "
      ]
    },
    {
      "cell_type": "markdown",
      "metadata": {
        "id": "MPhc6BFKfl9q"
      },
      "source": [
        "以下のリストで、カタカナで「サ行」が含まれている単語だけ出力するプログラムを作成してください。\n",
        "\n",
        "※使用するリスト :\n",
        "```\n",
        "l = ['アメリカ', 'カナダ', 'スイス', 'メキシコ', 'セントルシア', 'タイ']\n",
        "```\n",
        "\n",
        "▼期待する出力\n",
        "```\n",
        "サ行を含む単語 :\n",
        "スイス\n",
        "メキシコ\n",
        "セントルシア\n",
        "```\n"
      ]
    },
    {
      "cell_type": "code",
      "metadata": {
        "id": "Yir9nD6OoGoq",
        "colab": {
          "base_uri": "https://localhost:8080/"
        },
        "outputId": "a53597aa-540a-4c56-f068-1d6954485d71"
      },
      "source": [
        "l = ['アメリカ', 'カナダ', 'スイス', 'メキシコ', 'セントルシア', 'タイ']\n",
        "\n",
        "sa_l = ['サ','シ','ス','セ','ソ']\n",
        "\n",
        "print('サ行を含む単語 :')\n",
        "for word in l:\n",
        "    for sa in sa_l:\n",
        "        if sa in word:\n",
        "            print(word)\n",
        "            break"
      ],
      "execution_count": null,
      "outputs": [
        {
          "output_type": "stream",
          "name": "stdout",
          "text": [
            "サ行を含む単語 :\n",
            "スイス\n",
            "メキシコ\n",
            "セントルシア\n"
          ]
        }
      ]
    },
    {
      "cell_type": "markdown",
      "metadata": {
        "id": "ZAcJ3YFUopjZ"
      },
      "source": [
        "## 問題100. "
      ]
    },
    {
      "cell_type": "markdown",
      "metadata": {
        "id": "lMBOwrA2fnTv"
      },
      "source": [
        "特殊メソッドを除いて、Pythonリストで使えるすべてのメソッドを確認するプログラムを作成してください。\n",
        "\n",
        "```\n",
        "リストで使えるメソッド一覧：\n",
        "['append', 'clear', 'copy', 'count', 'extend', 'index', 'insert', 'pop', 'remove', 'reverse', 'sort']\n",
        "```"
      ]
    },
    {
      "cell_type": "code",
      "metadata": {
        "id": "4leFoQM4opgy",
        "colab": {
          "base_uri": "https://localhost:8080/"
        },
        "outputId": "5c721e00-abfc-44db-816c-66681e473faa"
      },
      "source": [
        "# 意味わからん\n",
        "methods = dir(list)\n",
        "non_special_methods = [m for m in methods if '__' not in m]\n",
        "print(f'リストで使えるメソッド一覧 : \\n {non_special_methods}')"
      ],
      "execution_count": null,
      "outputs": [
        {
          "output_type": "stream",
          "name": "stdout",
          "text": [
            "リストで使えるメソッド一覧 : \n",
            " ['append', 'clear', 'copy', 'count', 'extend', 'index', 'insert', 'pop', 'remove', 'reverse', 'sort']\n"
          ]
        }
      ]
    },
    {
      "cell_type": "code",
      "metadata": {
        "id": "xOuK-3nYojG-"
      },
      "source": [
        ""
      ],
      "execution_count": null,
      "outputs": []
    }
  ]
}