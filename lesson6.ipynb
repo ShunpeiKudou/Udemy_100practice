{
  "nbformat": 4,
  "nbformat_minor": 0,
  "metadata": {
    "colab": {
      "name": "lesson6.ipynb",
      "provenance": [],
      "collapsed_sections": [
        "m9TRTPIBTs9q",
        "VT0KI3NYUJso",
        "be6S_V18UTlg",
        "lM2BksgAUyWm",
        "FQiTDVUeUyR5",
        "C3i7SDX6VGfm",
        "LOOTkN9AVaEn",
        "oPoBmyhqVnjB"
      ],
      "toc_visible": true,
      "include_colab_link": true
    },
    "kernelspec": {
      "name": "python3",
      "display_name": "Python 3"
    },
    "language_info": {
      "name": "python"
    }
  },
  "cells": [
    {
      "cell_type": "markdown",
      "metadata": {
        "id": "view-in-github",
        "colab_type": "text"
      },
      "source": [
        "<a href=\"https://colab.research.google.com/github/ShunpeiKudou/Udemy_100practice/blob/main/lesson6.ipynb\" target=\"_parent\"><img src=\"https://colab.research.google.com/assets/colab-badge.svg\" alt=\"Open In Colab\"/></a>"
      ]
    },
    {
      "cell_type": "markdown",
      "metadata": {
        "id": "8iER18DYTp4-"
      },
      "source": [
        "# タプル型【8問】"
      ]
    },
    {
      "cell_type": "markdown",
      "metadata": {
        "id": "m9TRTPIBTs9q"
      },
      "source": [
        "## 問題51. "
      ]
    },
    {
      "cell_type": "markdown",
      "metadata": {
        "id": "yOtSicOOKGpP"
      },
      "source": [
        "タプル`(1, 2, 3)`を作成するプログラムを作成してください。さらにリスト`[1, 2 ,3]`を基にしてタプルを作成してください。\n",
        "\n",
        "```\n",
        "作成したタプル : (1, 2, 3)\n",
        "リストから作成 : (1, 2, 3)\n",
        "```"
      ]
    },
    {
      "cell_type": "code",
      "metadata": {
        "id": "suI9TNktTzHY",
        "colab": {
          "base_uri": "https://localhost:8080/"
        },
        "outputId": "7f68e49b-d536-416f-b814-83c6628edbf8"
      },
      "source": [
        "t = (1, 2, 3)\n",
        "l = [1, 2, 3]\n",
        "lt = tuple(l)\n",
        "\n",
        "print(f'作成したタプル : {t}')\n",
        "print(f'リストから作成 : {lt}')"
      ],
      "execution_count": null,
      "outputs": [
        {
          "output_type": "stream",
          "name": "stdout",
          "text": [
            "作成したタプル : (1, 2, 3)\n",
            "リストから作成 : (1, 2, 3)\n"
          ]
        }
      ]
    },
    {
      "cell_type": "markdown",
      "metadata": {
        "id": "VT0KI3NYUJso"
      },
      "source": [
        "## 問題52. "
      ]
    },
    {
      "cell_type": "markdown",
      "metadata": {
        "id": "d8nygGFYKIBf"
      },
      "source": [
        "数字の1だけが格納されたタプルを作成してください。\n",
        "\n",
        "```\n",
        "要素が1だけのタプル : (1,)\n",
        "型 : <class 'tuple'>\n",
        "```"
      ]
    },
    {
      "cell_type": "code",
      "metadata": {
        "id": "2HUVSCCVUNZ3",
        "colab": {
          "base_uri": "https://localhost:8080/"
        },
        "outputId": "1e2cbe08-6ac1-495c-8769-df2cc4cbf528"
      },
      "source": [
        "t1 = (1,)\n",
        "print(f'要素が1だけのタプル : {t1}')\n",
        "print(f'型 : {type(t1)}')"
      ],
      "execution_count": null,
      "outputs": [
        {
          "output_type": "stream",
          "name": "stdout",
          "text": [
            "要素が1だけのタプル : (1,)\n",
            "型 : <class 'tuple'>\n"
          ]
        }
      ]
    },
    {
      "cell_type": "markdown",
      "metadata": {
        "id": "be6S_V18UTlg"
      },
      "source": [
        "## 問題53. "
      ]
    },
    {
      "cell_type": "markdown",
      "metadata": {
        "id": "zPHCIjeqKJhS"
      },
      "source": [
        "以下のリストを、3分割してタプルに格納するプログラムを「3行以下」で作成してください。\n",
        "\n",
        "※使用するリスト : \n",
        "```\n",
        "l = [1, 2, 3, 4, 5, 6, 7, 8, 9]\n",
        "```\n",
        "\n",
        "▼期待する出力\n",
        "```\n",
        "3分割したタプル : [(1, 2, 3), (4, 5, 6), (7, 8, 9)]\n",
        "```"
      ]
    },
    {
      "cell_type": "code",
      "metadata": {
        "id": "EfOglsRBUgfb",
        "colab": {
          "base_uri": "https://localhost:8080/"
        },
        "outputId": "b4c80fa2-5c96-41d8-831d-022b16ef363d"
      },
      "source": [
        "l = [1, 2, 3, 4, 5, 6, 7, 8, 9]\n",
        "\n",
        "# t = [tuple(x, y, z) for x, y, z in l] 自力断念\n",
        "new_l = [tuple(l[i:i+3]) for i in range(0, 9, 3)]\n",
        "\n",
        "print(f'3分割したタプル : {new_l}')"
      ],
      "execution_count": null,
      "outputs": [
        {
          "output_type": "stream",
          "name": "stdout",
          "text": [
            "3分割したタプル : [(1, 2, 3), (4, 5, 6), (7, 8, 9)]\n"
          ]
        }
      ]
    },
    {
      "cell_type": "markdown",
      "metadata": {
        "id": "lM2BksgAUyWm"
      },
      "source": [
        "## 問題54. "
      ]
    },
    {
      "cell_type": "markdown",
      "metadata": {
        "id": "C0z-RaFvKK9G"
      },
      "source": [
        "問題53で作成したタプル`[(1, 2, 3), (4, 5, 6), (7, 8, 9)]`に対して、以下の出力になるようなプログラムを「4行以下」で作成してください。\n",
        "\n",
        "```\n",
        "1行目の値 : 1 2 3\n",
        "2行目の値 : 4 5 6\n",
        "3行目の値 : 7 8 9\n",
        "```"
      ]
    },
    {
      "cell_type": "code",
      "metadata": {
        "id": "mtKI-wB1UyUD",
        "colab": {
          "base_uri": "https://localhost:8080/"
        },
        "outputId": "74a1bdae-88f0-419e-de65-a568cabd8422"
      },
      "source": [
        "# むずいよ\n",
        "'''\n",
        "for i, name in enumerate(new_l):\n",
        "    print(f'{i+1}行目の値 : {name}')\n",
        "'''"
      ],
      "execution_count": null,
      "outputs": [
        {
          "output_type": "stream",
          "name": "stdout",
          "text": [
            "1行目の値 : (1, 2, 3)\n",
            "4行目の値 : (4, 5, 6)\n",
            "7行目の値 : (7, 8, 9)\n"
          ]
        }
      ]
    },
    {
      "cell_type": "code",
      "source": [
        "l = [(1, 2, 3), (4, 5, 6), (7, 8, 9)]\n",
        "for i, row in enumerate(l, start=1):\n",
        "    a, b, c = row\n",
        "    # 1, 2, 3 = (1, 2, 3)\n",
        "    print(f'{i}行目の値 : {a} {b} {c}')"
      ],
      "metadata": {
        "colab": {
          "base_uri": "https://localhost:8080/"
        },
        "id": "PIndEUPopbYi",
        "outputId": "1915e10e-d1f5-414e-da26-0e73acaecbf5"
      },
      "execution_count": null,
      "outputs": [
        {
          "output_type": "stream",
          "name": "stdout",
          "text": [
            "1行目の値 : 1 2 3\n",
            "2行目の値 : 4 5 6\n",
            "3行目の値 : 7 8 9\n"
          ]
        }
      ]
    },
    {
      "cell_type": "markdown",
      "metadata": {
        "id": "FQiTDVUeUyR5"
      },
      "source": [
        "## 問題55. "
      ]
    },
    {
      "cell_type": "markdown",
      "metadata": {
        "id": "UM0fAURuKMNy"
      },
      "source": [
        "以下のタプルの並び順を逆にするプログラムを作成してください。\n",
        "\n",
        "※使用するタプル : \n",
        "```\n",
        "t = (1, '2', 3, '4', 5, '6', 7, '8', 9)\n",
        "```\n",
        "\n",
        "▼期待する出力\n",
        "```\n",
        "反転させたタプル : (9, '8', 7, '6', 5, '4', 3, '2', 1)\n",
        "```\n"
      ]
    },
    {
      "cell_type": "code",
      "metadata": {
        "id": "D8zC2ES6UpfT",
        "colab": {
          "base_uri": "https://localhost:8080/"
        },
        "outputId": "78be7711-3854-43d7-8342-59b81959e097"
      },
      "source": [
        "t = (1, '2', 3, '4', 5, '6', 7, '8', 9)\n",
        "\n",
        "l = []\n",
        "for n in range(8, -1, -1):\n",
        "    l.append(t[n])\n",
        "\n",
        "new_t = tuple(l)\n",
        "\n",
        "print(f'反転させたタプル : {new_t}')"
      ],
      "execution_count": null,
      "outputs": [
        {
          "output_type": "stream",
          "name": "stdout",
          "text": [
            "反転させたタプル : (9, '8', 7, '6', 5, '4', 3, '2', 1)\n"
          ]
        }
      ]
    },
    {
      "cell_type": "code",
      "source": [
        "# pythonの機能を使う\n",
        "t = (1, '2', 3, '4', 5, '6', 7, '8', 9)\n",
        "\n",
        "reversed_t = tuple(reversed(t))\n",
        "\n",
        "print(f'反転させたタプル : {reversed_t}')"
      ],
      "metadata": {
        "colab": {
          "base_uri": "https://localhost:8080/"
        },
        "id": "SJNbYG_Rrn-F",
        "outputId": "f687686c-b7a0-45ee-e269-5999a76ac5dc"
      },
      "execution_count": null,
      "outputs": [
        {
          "output_type": "stream",
          "name": "stdout",
          "text": [
            "反転させたタプル : (9, '8', 7, '6', 5, '4', 3, '2', 1)\n"
          ]
        }
      ]
    },
    {
      "cell_type": "markdown",
      "metadata": {
        "id": "C3i7SDX6VGfm"
      },
      "source": [
        "## 問題56. "
      ]
    },
    {
      "cell_type": "markdown",
      "metadata": {
        "id": "neDkQ2fjKNe9"
      },
      "source": [
        "以下のタプルを数値(整数型)に変換するプログラムを作成してください。\n",
        "\n",
        "※使用するタプル : \n",
        "```\n",
        "t = (1, '2', 3, '4', 5)\n",
        "```\n",
        "\n",
        "▼期待する出力\n",
        "```\n",
        "変換後の数値 : 12345\n",
        "```"
      ]
    },
    {
      "cell_type": "code",
      "metadata": {
        "id": "FCsV52RbVMxW",
        "colab": {
          "base_uri": "https://localhost:8080/"
        },
        "outputId": "d8529662-3f9a-4db6-b758-a3a0eb893fff"
      },
      "source": [
        "t = (1, '2', 3, '4', 5)\n",
        "\n",
        "a = 0\n",
        "c = len(t) - 1\n",
        "for n in t:\n",
        "    n = int(n)\n",
        "    a += n*10**c\n",
        "    c -=1\n",
        "\n",
        "print(f'変換後の数値 : {a}')"
      ],
      "execution_count": 12,
      "outputs": [
        {
          "output_type": "stream",
          "name": "stdout",
          "text": [
            "変換後の数値 : 12345\n"
          ]
        }
      ]
    },
    {
      "cell_type": "code",
      "source": [
        "# 模範解答\n",
        "t = (1, '2', 3, '4', 5)\n",
        "\n",
        "# 文字型を使うのでは？\n",
        "# 文字型⇒int\n",
        "\n",
        "# タプルの中身をすべて文字型に変換する\n",
        "str_t = (str(v) for v in t)\n",
        "print(str_t)\n",
        "\n",
        "# タプル⇒文字型\n",
        "convert_int = int(''.join(str_t))\n",
        "print('返還後の数値 : {converted_int}')"
      ],
      "metadata": {
        "colab": {
          "base_uri": "https://localhost:8080/"
        },
        "id": "PDwIZWGUDt2K",
        "outputId": "fe8c74e1-13e8-4512-ec49-b592787524db"
      },
      "execution_count": 16,
      "outputs": [
        {
          "output_type": "stream",
          "name": "stdout",
          "text": [
            "<generator object <genexpr> at 0x7f8627f5e4d0>\n",
            "返還後の数値 : {converted_int}\n"
          ]
        }
      ]
    },
    {
      "cell_type": "markdown",
      "metadata": {
        "id": "LOOTkN9AVaEn"
      },
      "source": [
        "## 問題57. "
      ]
    },
    {
      "cell_type": "markdown",
      "metadata": {
        "id": "PPTvF4m8KO-e"
      },
      "source": [
        "以下のタプル内に含まれているタプルの数をカウントするプログラムを作成してください。\n",
        "\n",
        "※使用するタプル : \n",
        "```\n",
        "t = (1, [2, 3], '4', (5, 6, 7), '8', (9, 10))\n",
        "```\n",
        "\n",
        "▼期待する出力\n",
        "\n",
        "```\n",
        "タプル内に含まれるタプルの数 : 2\n",
        "```"
      ]
    },
    {
      "cell_type": "code",
      "metadata": {
        "id": "qdt-kxSbVQ2c",
        "colab": {
          "base_uri": "https://localhost:8080/"
        },
        "outputId": "2dbeaa5d-9c8f-43fe-86c2-510b3873909c"
      },
      "source": [
        "t = (1, [2, 3], '4', (5, 6, 7), '8', (9, 10))\n",
        "\n",
        "t_in_tuple = [v for v in t if isinstance(v, tuple)]\n",
        "\n",
        "''' 自分のコード\n",
        "c = 0\n",
        "for n in t:\n",
        "    if type(n) == tuple:\n",
        "        c += 1\n",
        "    else:\n",
        "        continue\n",
        "'''\n",
        "\n",
        "print(f'タプル内に含まれるタプルの数 : {len(t_in_tuple)}')"
      ],
      "execution_count": 20,
      "outputs": [
        {
          "output_type": "stream",
          "name": "stdout",
          "text": [
            "タプル内に含まれるタプルの数 : 2\n"
          ]
        }
      ]
    },
    {
      "cell_type": "markdown",
      "metadata": {
        "id": "oPoBmyhqVnjB"
      },
      "source": [
        "## 問題58. "
      ]
    },
    {
      "cell_type": "markdown",
      "metadata": {
        "id": "6yNlWoLEKQiE"
      },
      "source": [
        "以下のタプルの中身を、すべてタプルに変換するプログラムを作成してください。\n",
        "\n",
        "※使用するタプル : \n",
        "```\n",
        "t = (1, [2, 3], '4', (5, 6, 7), None, (9, 10))\n",
        "```\n",
        "\n",
        "▼期待する出力\n",
        "```\n",
        "変換したタプル : ((1,), (2, 3), ('4',), (5, 6, 7), (None,), (9, 10))\n",
        "```"
      ]
    },
    {
      "cell_type": "code",
      "metadata": {
        "id": "Fa104y4wVngr",
        "colab": {
          "base_uri": "https://localhost:8080/"
        },
        "outputId": "1d3dc55b-20a2-468e-dcc1-883dd10210df"
      },
      "source": [
        "# 無理だった\n",
        "'''\n",
        "t = (1, [2, 3], '4', (5, 6, 7), None, (9, 10))\n",
        "list_t = []\n",
        "[list_t.append(v) for v in t]\n",
        "new_t = tuple(list_t)\n",
        "print(new_t)\n",
        "'''"
      ],
      "execution_count": 25,
      "outputs": [
        {
          "output_type": "stream",
          "name": "stdout",
          "text": [
            "(1, [2, 3], '4', (5, 6, 7), None, (9, 10))\n"
          ]
        }
      ]
    },
    {
      "cell_type": "code",
      "metadata": {
        "id": "i_IsQr61Vgwn",
        "colab": {
          "base_uri": "https://localhost:8080/"
        },
        "outputId": "103a77a2-8b75-4e4c-f490-7eb58acbc0d6"
      },
      "source": [
        "t = (1, [2, 3], '4', (5, 6, 7), None, (9, 10))\n",
        "\n",
        "t_to_tuple = []\n",
        "for v in t:\n",
        "    if isinstance(v, tuple):\n",
        "        t_to_tuple.append(v)\n",
        "    elif isinstance(v, list):\n",
        "        t_to_tuple.append(tuple(v))\n",
        "    else:\n",
        "        t_to_tuple.append((v,))\n",
        "\n",
        "print(f'変換したタプル : {t_to_tuple}')"
      ],
      "execution_count": 26,
      "outputs": [
        {
          "output_type": "stream",
          "name": "stdout",
          "text": [
            "変換したタプル : [(1,), (2, 3), ('4',), (5, 6, 7), (None,), (9, 10)]\n"
          ]
        }
      ]
    }
  ]
}